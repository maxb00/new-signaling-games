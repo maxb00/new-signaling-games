{
 "cells": [
  {
   "cell_type": "markdown",
   "id": "a7442252",
   "metadata": {},
   "source": [
    "# General tests\n",
    "1000 runs each setup, checking success/failure rate by payoff\n",
    "(Success == payoff > 99.99%)"
   ]
  },
  {
   "cell_type": "markdown",
   "id": "ce978969",
   "metadata": {},
   "source": [
    "### Notebook globals\n",
    "Change these once per location."
   ]
  },
  {
   "cell_type": "code",
   "execution_count": 1,
   "id": "1009a5be",
   "metadata": {},
   "outputs": [],
   "source": [
    "import sys\n",
    "from multiprocess import Pool # type: ignore\n",
    "\n",
    "# changed from template: requires different syntax on Windows/Linux\n",
    "sys.path.append(\"../../\") # this should point to the package root containing /src\n",
    "from src.util import get_stats_by_folder, delta_reward_fn\n",
    "from src.util.runner import run_game"
   ]
  },
  {
   "cell_type": "code",
   "execution_count": 2,
   "id": "491320a9",
   "metadata": {},
   "outputs": [],
   "source": [
    "# Set the observation chance\n",
    "observation_chance = 0.2\n",
    "\n",
    "# choose the size and length of batches and runs\n",
    "iterations_per_game = 1_000_000\n",
    "batch_size = 1_000\n",
    "\n",
    "# set the state prior distrobution\n",
    "state_prior_distrobution = \"uniform\" # or \"normal\"\n",
    "\n",
    "# choose a reward function\n",
    "reward_function = delta_reward_fn\n",
    "reward_param = (1, 1) # used for calculating optimal payoff and info measure. c and d in linear reward function\n",
    "\n",
    "# choose a weight transformation function, if any\n",
    "weight_transformation_function = None # None or transform.\n",
    "\n",
    "# choose image options: How often should the game be sampled for the results visual, and what form should the visual be?\n",
    "image_format_choice = \"\" # can be \"gif\" or \"image\". Must be empty string in parallelized test!!\n",
    "record_interval = 1_000 # number of steps between game samples\n",
    "\n",
    "# choose a success threshold. \n",
    "success_threshold = 0.8 # If a game's final payoff is larger, it is considered a success.\n",
    "pooling_threshold = 0.8 # If a no signal more probable than this threshold for a given state, we're pooling.\n",
    "\n",
    "# choose if the sender and receiver use stimulus generalization\n",
    "sender_stimgen = False\n",
    "receiver_stimgen = False\n",
    "\n",
    "# finally, choose a random seed for reproducability.\n",
    "seed = 0 # None is suggested for more than one play\n",
    "n_seeds = 5 # number of seeds to show when printing results"
   ]
  },
  {
   "cell_type": "markdown",
   "id": "0b233d45",
   "metadata": {},
   "source": [
    "## 2 states, 2 signals, 2 actions"
   ]
  },
  {
   "cell_type": "code",
   "execution_count": 3,
   "id": "6f8d1bc7",
   "metadata": {},
   "outputs": [],
   "source": [
    "# Game setup constants\n",
    "n_states = 2\n",
    "n_signals = 2\n",
    "n_actions = 2\n",
    "\n",
    "# zip arguments for multiprocessing\n",
    "args_list = [n_states, n_signals, n_actions, sender_stimgen, receiver_stimgen, state_prior_distrobution, observation_chance, reward_param, reward_function, weight_transformation_function, iterations_per_game, record_interval]\n",
    "if seed is None:\n",
    "    argmap = ((seed, *args_list, i, image_format_choice) for i in range(batch_size))\n",
    "else:\n",
    "    argmap = ((seed+i, *args_list, i, image_format_choice) for i in range(batch_size))"
   ]
  },
  {
   "cell_type": "code",
   "execution_count": 4,
   "id": "cf431eba",
   "metadata": {},
   "outputs": [],
   "source": [
    "# run games as a parallelized Process pool.\n",
    "with Pool() as p:\n",
    "    p.starmap(run_game, tuple(argmap))"
   ]
  },
  {
   "cell_type": "markdown",
   "id": "3154e439",
   "metadata": {},
   "source": [
    "### Reading results\n",
    "CSV files ignored in .gitignore, should be reproducable with seed."
   ]
  },
  {
   "cell_type": "code",
   "execution_count": 5,
   "id": "3ef06c2f",
   "metadata": {},
   "outputs": [
    {
     "data": {
      "text/plain": [
       "{'success_count': 992,\n",
       " 'final_payoff_range': [0.5220173652627959, 0.9999959998502378],\n",
       " 'final_payoff_average': 0.9796925359580745,\n",
       " 'final_payoff_seeds': [825, 71],\n",
       " 'rolling_payoff_range': [0.52004, 0.999963],\n",
       " 'rolling_payoff_average': 0.995795617,\n",
       " 'rolling_payoff_seeds': [825, 71],\n",
       " 'pooling_count': 6,\n",
       " 'pooling_seeds': [362, 825, 480, 808, 197],\n",
       " '<=0.5_count': 0,\n",
       " '<=0.5_seeds': [],\n",
       " '0.5-0.75_count': 8,\n",
       " '0.5-0.75_seeds': [362, 825, 877, 480, 808],\n",
       " '0.75-0.875_count': 0,\n",
       " '0.75-0.875_seeds': [],\n",
       " '0.875-1_count': 992,\n",
       " '0.875-1_seeds': [780, 871, 469, 309, 288]}"
      ]
     },
     "execution_count": 5,
     "metadata": {},
     "output_type": "execute_result"
    }
   ],
   "source": [
    "get_stats_by_folder(\"./simulations/2_2_2/\", success_threshold, n_signals, pooling_threshold, n_seeds)"
   ]
  },
  {
   "cell_type": "markdown",
   "id": "49684aff",
   "metadata": {},
   "source": [
    "## 3 states, 3 signals, 3 actions"
   ]
  },
  {
   "cell_type": "code",
   "execution_count": 6,
   "id": "f97f1e4e",
   "metadata": {},
   "outputs": [],
   "source": [
    "# Game setup constants\n",
    "n_states = 3\n",
    "n_signals = 3\n",
    "n_actions = 3\n",
    "\n",
    "# zip arguments for multiprocessing\n",
    "args_list = [n_states, n_signals, n_actions, sender_stimgen, receiver_stimgen, state_prior_distrobution, observation_chance, reward_param, reward_function, weight_transformation_function, iterations_per_game, record_interval]\n",
    "if seed is None:\n",
    "    argmap = ((seed, *args_list, i, image_format_choice) for i in range(batch_size))\n",
    "else:\n",
    "    argmap = ((seed+i, *args_list, i, image_format_choice) for i in range(batch_size))"
   ]
  },
  {
   "cell_type": "code",
   "execution_count": 7,
   "id": "39be08b0",
   "metadata": {},
   "outputs": [],
   "source": [
    "with Pool() as p:\n",
    "    p.starmap(run_game, tuple(argmap))"
   ]
  },
  {
   "cell_type": "markdown",
   "id": "8c38f70f",
   "metadata": {},
   "source": [
    "### Reading results\n",
    "CSV files ignored in .gitignore, should be reproducable with seed."
   ]
  },
  {
   "cell_type": "code",
   "execution_count": 8,
   "id": "8b5503ff",
   "metadata": {},
   "outputs": [
    {
     "data": {
      "text/plain": [
       "{'success_count': 894,\n",
       " 'final_payoff_range': [0.5739556412270745, 0.9999879979493671],\n",
       " 'final_payoff_average': 0.9427218550985229,\n",
       " 'final_payoff_seeds': [55, 680],\n",
       " 'rolling_payoff_range': [0.665619, 0.999851],\n",
       " 'rolling_payoff_average': 0.9618021380000001,\n",
       " 'rolling_payoff_seeds': [784, 56],\n",
       " 'pooling_count': 106,\n",
       " 'pooling_seeds': [252, 515, 199, 577, 696],\n",
       " '<=0.5_count': 0,\n",
       " '<=0.5_seeds': [],\n",
       " '0.5-0.75_count': 103,\n",
       " '0.5-0.75_seeds': [252, 515, 199, 577, 696],\n",
       " '0.75-0.875_count': 7,\n",
       " '0.75-0.875_seeds': [236, 28, 194, 535, 990],\n",
       " '0.875-1_count': 890,\n",
       " '0.875-1_seeds': [780, 871, 469, 309, 288]}"
      ]
     },
     "execution_count": 8,
     "metadata": {},
     "output_type": "execute_result"
    }
   ],
   "source": [
    "get_stats_by_folder(\"./simulations/3_3_3/\", success_threshold, n_signals, pooling_threshold, n_seeds)"
   ]
  },
  {
   "cell_type": "markdown",
   "id": "49684aff",
   "metadata": {},
   "source": [
    "## 4 states, 4 signals, 4 actions"
   ]
  },
  {
   "cell_type": "code",
   "execution_count": 9,
   "id": "f97f1e4e",
   "metadata": {},
   "outputs": [],
   "source": [
    "# Game setup constants\n",
    "n_states = 4\n",
    "n_signals = 4\n",
    "n_actions = 4\n",
    "\n",
    "# zip arguments for multiprocessing\n",
    "args_list = [n_states, n_signals, n_actions, sender_stimgen, receiver_stimgen, state_prior_distrobution, observation_chance, reward_param, reward_function, weight_transformation_function, iterations_per_game, record_interval]\n",
    "if seed is None:\n",
    "    argmap = ((seed, *args_list, i, image_format_choice) for i in range(batch_size))\n",
    "else:\n",
    "    argmap = ((seed+i, *args_list, i, image_format_choice) for i in range(batch_size))"
   ]
  },
  {
   "cell_type": "code",
   "execution_count": 10,
   "id": "39be08b0",
   "metadata": {},
   "outputs": [],
   "source": [
    "with Pool() as p:\n",
    "    p.starmap(run_game, tuple(argmap))"
   ]
  },
  {
   "cell_type": "markdown",
   "id": "8c38f70f",
   "metadata": {},
   "source": [
    "### Reading results\n",
    "CSV files ignored in .gitignore, should be reproducable with seed."
   ]
  },
  {
   "cell_type": "code",
   "execution_count": 11,
   "id": "8b5503ff",
   "metadata": {},
   "outputs": [
    {
     "data": {
      "text/plain": [
       "{'success_count': 797,\n",
       " 'final_payoff_range': [0.6362904308376937, 0.9999699862425437],\n",
       " 'final_payoff_average': 0.923607028981283,\n",
       " 'final_payoff_seeds': [220, 330],\n",
       " 'rolling_payoff_range': [0.744735, 0.999654],\n",
       " 'rolling_payoff_average': 0.9433100289999986,\n",
       " 'rolling_payoff_seeds': [791, 330],\n",
       " 'pooling_count': 212,\n",
       " 'pooling_seeds': [261, 189, 354, 626, 218],\n",
       " '<=0.5_count': 0,\n",
       " '<=0.5_seeds': [],\n",
       " '0.5-0.75_count': 62,\n",
       " '0.5-0.75_seeds': [261, 354, 351, 225, 697],\n",
       " '0.75-0.875_count': 154,\n",
       " '0.75-0.875_seeds': [189, 626, 218, 970, 945],\n",
       " '0.875-1_count': 784,\n",
       " '0.875-1_seeds': [780, 871, 469, 309, 288]}"
      ]
     },
     "execution_count": 11,
     "metadata": {},
     "output_type": "execute_result"
    }
   ],
   "source": [
    "get_stats_by_folder(\"./simulations/4_4_4/\", success_threshold, n_signals, pooling_threshold, n_seeds)"
   ]
  },
  {
   "cell_type": "markdown",
   "id": "49684aff",
   "metadata": {},
   "source": [
    "## 8 states, 8 signals, 8 actions"
   ]
  },
  {
   "cell_type": "code",
   "execution_count": 12,
   "id": "f97f1e4e",
   "metadata": {},
   "outputs": [],
   "source": [
    "# Game setup constants\n",
    "n_states = 8\n",
    "n_signals = 8\n",
    "n_actions = 8\n",
    "\n",
    "# zip arguments for multiprocessing\n",
    "args_list = [n_states, n_signals, n_actions, sender_stimgen, receiver_stimgen, state_prior_distrobution, observation_chance, reward_param, reward_function, weight_transformation_function, iterations_per_game, record_interval]\n",
    "if seed is None:\n",
    "    argmap = ((seed, *args_list, i, image_format_choice) for i in range(batch_size))\n",
    "else:\n",
    "    argmap = ((seed+i, *args_list, i, image_format_choice) for i in range(batch_size))"
   ]
  },
  {
   "cell_type": "code",
   "execution_count": 13,
   "id": "39be08b0",
   "metadata": {},
   "outputs": [],
   "source": [
    "with Pool() as p:\n",
    "    p.starmap(run_game, tuple(argmap))"
   ]
  },
  {
   "cell_type": "markdown",
   "id": "8c38f70f",
   "metadata": {},
   "source": [
    "### Reading results\n",
    "CSV files ignored in .gitignore, should be reproducable with seed."
   ]
  },
  {
   "cell_type": "code",
   "execution_count": 14,
   "id": "8b5503ff",
   "metadata": {},
   "outputs": [
    {
     "data": {
      "text/plain": [
       "{'success_count': 938,\n",
       " 'final_payoff_range': [0.6185439779223473, 0.999785464836129],\n",
       " 'final_payoff_average': 0.8910695471973545,\n",
       " 'final_payoff_seeds': [381, 750],\n",
       " 'rolling_payoff_range': [0.741825, 0.9974],\n",
       " 'rolling_payoff_average': 0.9090924159999991,\n",
       " 'rolling_payoff_seeds': [568, 750],\n",
       " 'pooling_count': 589,\n",
       " 'pooling_seeds': [780, 871, 469, 471, 977],\n",
       " '<=0.5_count': 0,\n",
       " '<=0.5_seeds': [],\n",
       " '0.5-0.75_count': 34,\n",
       " '0.5-0.75_seeds': [200, 147, 169, 568, 37],\n",
       " '0.75-0.875_count': 531,\n",
       " '0.75-0.875_seeds': [780, 871, 469, 471, 977],\n",
       " '0.875-1_count': 435,\n",
       " '0.875-1_seeds': [309, 288, 426, 252, 347]}"
      ]
     },
     "execution_count": 14,
     "metadata": {},
     "output_type": "execute_result"
    }
   ],
   "source": [
    "get_stats_by_folder(\"./simulations/8_8_8/\", success_threshold, n_signals, pooling_threshold, n_seeds)"
   ]
  }
 ],
 "metadata": {
  "interpreter": {
   "hash": "08b55d0b912724684cc88b9f4a6df93526d0c0adc07f26d8f511e1e539bc6714"
  },
  "kernelspec": {
   "display_name": "Python 3.11.11 64-bit ('signal': conda)",
   "name": "python3"
  },
  "language_info": {
   "codemirror_mode": {
    "name": "ipython",
    "version": 3
   },
   "file_extension": ".py",
   "mimetype": "text/x-python",
   "name": "python",
   "nbconvert_exporter": "python",
   "pygments_lexer": "ipython3",
   "version": "3.11.11"
  }
 },
 "nbformat": 4,
 "nbformat_minor": 5
}
