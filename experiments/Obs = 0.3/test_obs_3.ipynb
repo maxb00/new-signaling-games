{
 "cells": [
  {
   "cell_type": "markdown",
   "id": "a7442252",
   "metadata": {},
   "source": [
    "# General tests\n",
    "1000 runs each setup, checking success/failure rate by payoff\n",
    "(Success == payoff > 99.99%)"
   ]
  },
  {
   "cell_type": "markdown",
   "id": "ce978969",
   "metadata": {},
   "source": [
    "### Notebook globals\n",
    "Change these once per location."
   ]
  },
  {
   "cell_type": "code",
   "execution_count": 1,
   "id": "1009a5be",
   "metadata": {},
   "outputs": [],
   "source": [
    "import sys\n",
    "from multiprocess import Pool # type: ignore\n",
    "\n",
    "# changed from template: requires different syntax on Windows/Linux\n",
    "sys.path.append(\"../../\") # this should point to the package root containing /src\n",
    "from src.util import get_stats_by_folder, delta_reward_fn\n",
    "from src.util.runner import run_game"
   ]
  },
  {
   "cell_type": "code",
   "execution_count": 2,
   "id": "491320a9",
   "metadata": {},
   "outputs": [],
   "source": [
    "# Set the observation chance\n",
    "observation_chance = 0.3\n",
    "\n",
    "# choose the size and length of batches and runs\n",
    "iterations_per_game = 1_000_000\n",
    "batch_size = 1_000\n",
    "\n",
    "# set the state prior distrobution\n",
    "state_prior_distrobution = \"uniform\" # or \"normal\"\n",
    "\n",
    "# choose a reward function\n",
    "reward_function = delta_reward_fn\n",
    "reward_param = (1, 1) # used for calculating optimal payoff and info measure. c and d in linear reward function\n",
    "\n",
    "# choose a weight transformation function, if any\n",
    "weight_transformation_function = None # None or transform.\n",
    "\n",
    "# choose image options: How often should the game be sampled for the results visual, and what form should the visual be?\n",
    "image_format_choice = \"\" # can be \"gif\" or \"image\". Must be empty string in parallelized test!!\n",
    "record_interval = 1_000 # number of steps between game samples\n",
    "\n",
    "# choose a success threshold. \n",
    "success_threshold = 0.8 # If a game's final payoff is larger, it is considered a success.\n",
    "pooling_threshold = 0.8 # If a no signal more probable than this threshold for a given state, we're pooling.\n",
    "\n",
    "# choose if the sender and receiver use stimulus generalization\n",
    "sender_stimgen = False\n",
    "receiver_stimgen = False\n",
    "\n",
    "# finally, choose a random seed for reproducability.\n",
    "seed = 0 # None is suggested for more than one play\n",
    "n_seeds = 5 # number of seeds to show when printing results"
   ]
  },
  {
   "cell_type": "markdown",
   "id": "0b233d45",
   "metadata": {},
   "source": [
    "## 2 states, 2 signals, 2 actions"
   ]
  },
  {
   "cell_type": "code",
   "execution_count": 3,
   "id": "6f8d1bc7",
   "metadata": {},
   "outputs": [],
   "source": [
    "# Game setup constants\n",
    "n_states = 2\n",
    "n_signals = 2\n",
    "n_actions = 2\n",
    "\n",
    "# zip arguments for multiprocessing\n",
    "args_list = [n_states, n_signals, n_actions, sender_stimgen, receiver_stimgen, state_prior_distrobution, observation_chance, reward_param, reward_function, weight_transformation_function, iterations_per_game, record_interval]\n",
    "if seed is None:\n",
    "    argmap = ((seed, *args_list, i, image_format_choice) for i in range(batch_size))\n",
    "else:\n",
    "    argmap = ((seed+i, *args_list, i, image_format_choice) for i in range(batch_size))"
   ]
  },
  {
   "cell_type": "code",
   "execution_count": 4,
   "id": "cf431eba",
   "metadata": {},
   "outputs": [],
   "source": [
    "# run games as a parallelized Process pool.\n",
    "with Pool() as p:\n",
    "    p.starmap(run_game, tuple(argmap))"
   ]
  },
  {
   "cell_type": "markdown",
   "id": "3154e439",
   "metadata": {},
   "source": [
    "### Reading results\n",
    "CSV files ignored in .gitignore, should be reproducable with seed."
   ]
  },
  {
   "cell_type": "code",
   "execution_count": 5,
   "id": "3ef06c2f",
   "metadata": {},
   "outputs": [
    {
     "data": {
      "text/plain": [
       "{'success_count': 992,\n",
       " 'final_payoff_range': [0.5108716316247743, 0.9999959998310363],\n",
       " 'final_payoff_average': 0.9605952458846514,\n",
       " 'final_payoff_seeds': [278, 754],\n",
       " 'rolling_payoff_range': [0.517574, 0.999964],\n",
       " 'rolling_payoff_average': 0.9952383009999987,\n",
       " 'rolling_payoff_seeds': [278, 71],\n",
       " 'pooling_count': 8,\n",
       " 'pooling_seeds': [832, 877, 480, 278, 197],\n",
       " '<=0.5_count': 0,\n",
       " '<=0.5_seeds': [],\n",
       " '0.5-0.75_count': 8,\n",
       " '0.5-0.75_seeds': [832, 877, 480, 278, 197],\n",
       " '0.75-0.875_count': 1,\n",
       " '0.75-0.875_seeds': [297],\n",
       " '0.875-1_count': 991,\n",
       " '0.875-1_seeds': [780, 871, 469, 309, 288]}"
      ]
     },
     "execution_count": 5,
     "metadata": {},
     "output_type": "execute_result"
    }
   ],
   "source": [
    "get_stats_by_folder(\"./simulations/2_2_2/\", success_threshold, n_signals, pooling_threshold, n_seeds)"
   ]
  },
  {
   "cell_type": "markdown",
   "id": "49684aff",
   "metadata": {},
   "source": [
    "## 3 states, 3 signals, 3 actions"
   ]
  },
  {
   "cell_type": "code",
   "execution_count": 6,
   "id": "f97f1e4e",
   "metadata": {},
   "outputs": [],
   "source": [
    "# Game setup constants\n",
    "n_states = 3\n",
    "n_signals = 3\n",
    "n_actions = 3\n",
    "\n",
    "# zip arguments for multiprocessing\n",
    "args_list = [n_states, n_signals, n_actions, sender_stimgen, receiver_stimgen, state_prior_distrobution, observation_chance, reward_param, reward_function, weight_transformation_function, iterations_per_game, record_interval]\n",
    "if seed is None:\n",
    "    argmap = ((seed, *args_list, i, image_format_choice) for i in range(batch_size))\n",
    "else:\n",
    "    argmap = ((seed+i, *args_list, i, image_format_choice) for i in range(batch_size))"
   ]
  },
  {
   "cell_type": "code",
   "execution_count": 7,
   "id": "39be08b0",
   "metadata": {},
   "outputs": [],
   "source": [
    "with Pool() as p:\n",
    "    p.starmap(run_game, tuple(argmap))"
   ]
  },
  {
   "cell_type": "markdown",
   "id": "8c38f70f",
   "metadata": {},
   "source": [
    "### Reading results\n",
    "CSV files ignored in .gitignore, should be reproducable with seed."
   ]
  },
  {
   "cell_type": "code",
   "execution_count": 8,
   "id": "8b5503ff",
   "metadata": {},
   "outputs": [
    {
     "data": {
      "text/plain": [
       "{'success_count': 875,\n",
       " 'final_payoff_range': [0.5418132260827769, 0.9999869974863831],\n",
       " 'final_payoff_average': 0.9147949487959215,\n",
       " 'final_payoff_seeds': [804, 497],\n",
       " 'rolling_payoff_range': [0.664844, 0.999835],\n",
       " 'rolling_payoff_average': 0.9561692029999991,\n",
       " 'rolling_payoff_seeds': [353, 962],\n",
       " 'pooling_count': 120,\n",
       " 'pooling_seeds': [309, 347, 515, 577, 696],\n",
       " '<=0.5_count': 0,\n",
       " '<=0.5_seeds': [],\n",
       " '0.5-0.75_count': 117,\n",
       " '0.5-0.75_seeds': [309, 347, 515, 577, 696],\n",
       " '0.75-0.875_count': 16,\n",
       " '0.75-0.875_seeds': [550, 427, 761, 538, 889],\n",
       " '0.875-1_count': 867,\n",
       " '0.875-1_seeds': [780, 871, 469, 288, 471]}"
      ]
     },
     "execution_count": 8,
     "metadata": {},
     "output_type": "execute_result"
    }
   ],
   "source": [
    "get_stats_by_folder(\"./simulations/3_3_3/\", success_threshold, n_signals, pooling_threshold, n_seeds)"
   ]
  },
  {
   "cell_type": "markdown",
   "id": "49684aff",
   "metadata": {},
   "source": [
    "## 4 states, 4 signals, 4 actions"
   ]
  },
  {
   "cell_type": "code",
   "execution_count": 9,
   "id": "f97f1e4e",
   "metadata": {},
   "outputs": [],
   "source": [
    "# Game setup constants\n",
    "n_states = 4\n",
    "n_signals = 4\n",
    "n_actions = 4\n",
    "\n",
    "# zip arguments for multiprocessing\n",
    "args_list = [n_states, n_signals, n_actions, sender_stimgen, receiver_stimgen, state_prior_distrobution, observation_chance, reward_param, reward_function, weight_transformation_function, iterations_per_game, record_interval]\n",
    "if seed is None:\n",
    "    argmap = ((seed, *args_list, i, image_format_choice) for i in range(batch_size))\n",
    "else:\n",
    "    argmap = ((seed+i, *args_list, i, image_format_choice) for i in range(batch_size))"
   ]
  },
  {
   "cell_type": "code",
   "execution_count": 10,
   "id": "39be08b0",
   "metadata": {},
   "outputs": [],
   "source": [
    "with Pool() as p:\n",
    "    p.starmap(run_game, tuple(argmap))"
   ]
  },
  {
   "cell_type": "markdown",
   "id": "8c38f70f",
   "metadata": {},
   "source": [
    "### Reading results\n",
    "CSV files ignored in .gitignore, should be reproducable with seed."
   ]
  },
  {
   "cell_type": "code",
   "execution_count": 11,
   "id": "8b5503ff",
   "metadata": {},
   "outputs": [
    {
     "data": {
      "text/plain": [
       "{'success_count': 815,\n",
       " 'final_payoff_range': [0.5980359550652914, 0.9999659837675647],\n",
       " 'final_payoff_average': 0.9015579099519274,\n",
       " 'final_payoff_seeds': [518, 330],\n",
       " 'rolling_payoff_range': [0.713589, 0.999636],\n",
       " 'rolling_payoff_average': 0.9464850250000006,\n",
       " 'rolling_payoff_seeds': [15, 466],\n",
       " 'pooling_count': 192,\n",
       " 'pooling_seeds': [288, 347, 411, 189, 155],\n",
       " '<=0.5_count': 0,\n",
       " '<=0.5_seeds': [],\n",
       " '0.5-0.75_count': 37,\n",
       " '0.5-0.75_seeds': [288, 697, 339, 658, 644],\n",
       " '0.75-0.875_count': 164,\n",
       " '0.75-0.875_seeds': [347, 411, 189, 155, 110],\n",
       " '0.875-1_count': 799,\n",
       " '0.875-1_seeds': [780, 871, 469, 309, 471]}"
      ]
     },
     "execution_count": 11,
     "metadata": {},
     "output_type": "execute_result"
    }
   ],
   "source": [
    "get_stats_by_folder(\"./simulations/4_4_4/\", success_threshold, n_signals, pooling_threshold, n_seeds)"
   ]
  },
  {
   "cell_type": "markdown",
   "id": "49684aff",
   "metadata": {},
   "source": [
    "## 8 states, 8 signals, 8 actions"
   ]
  },
  {
   "cell_type": "code",
   "execution_count": 12,
   "id": "f97f1e4e",
   "metadata": {},
   "outputs": [],
   "source": [
    "# Game setup constants\n",
    "n_states = 8\n",
    "n_signals = 8\n",
    "n_actions = 8\n",
    "\n",
    "# zip arguments for multiprocessing\n",
    "args_list = [n_states, n_signals, n_actions, sender_stimgen, receiver_stimgen, state_prior_distrobution, observation_chance, reward_param, reward_function, weight_transformation_function, iterations_per_game, record_interval]\n",
    "if seed is None:\n",
    "    argmap = ((seed, *args_list, i, image_format_choice) for i in range(batch_size))\n",
    "else:\n",
    "    argmap = ((seed+i, *args_list, i, image_format_choice) for i in range(batch_size))"
   ]
  },
  {
   "cell_type": "code",
   "execution_count": 13,
   "id": "39be08b0",
   "metadata": {},
   "outputs": [],
   "source": [
    "with Pool() as p:\n",
    "    p.starmap(run_game, tuple(argmap))"
   ]
  },
  {
   "cell_type": "markdown",
   "id": "8c38f70f",
   "metadata": {},
   "source": [
    "### Reading results\n",
    "CSV files ignored in .gitignore, should be reproducable with seed."
   ]
  },
  {
   "cell_type": "code",
   "execution_count": 14,
   "id": "8b5503ff",
   "metadata": {},
   "outputs": [
    {
     "data": {
      "text/plain": [
       "{'success_count': 951,\n",
       " 'final_payoff_range': [0.57157810223167, 0.9996978627391387],\n",
       " 'final_payoff_average': 0.8672604390828639,\n",
       " 'final_payoff_seeds': [393, 100],\n",
       " 'rolling_payoff_range': [0.631578, 0.996969],\n",
       " 'rolling_payoff_average': 0.9131023520000014,\n",
       " 'rolling_payoff_seeds': [440, 100],\n",
       " 'pooling_count': 556,\n",
       " 'pooling_seeds': [780, 469, 977, 426, 376],\n",
       " '<=0.5_count': 0,\n",
       " '<=0.5_seeds': [],\n",
       " '0.5-0.75_count': 22,\n",
       " '0.5-0.75_seeds': [941, 169, 862, 91, 656],\n",
       " '0.75-0.875_count': 451,\n",
       " '0.75-0.875_seeds': [780, 469, 977, 426, 530],\n",
       " '0.875-1_count': 527,\n",
       " '0.875-1_seeds': [871, 309, 288, 471, 252]}"
      ]
     },
     "execution_count": 14,
     "metadata": {},
     "output_type": "execute_result"
    }
   ],
   "source": [
    "get_stats_by_folder(\"./simulations/8_8_8/\", success_threshold, n_signals, pooling_threshold, n_seeds)"
   ]
  }
 ],
 "metadata": {
  "interpreter": {
   "hash": "08b55d0b912724684cc88b9f4a6df93526d0c0adc07f26d8f511e1e539bc6714"
  },
  "kernelspec": {
   "display_name": "Python 3.11.11 64-bit ('signal': conda)",
   "name": "python3"
  },
  "language_info": {
   "codemirror_mode": {
    "name": "ipython",
    "version": 3
   },
   "file_extension": ".py",
   "mimetype": "text/x-python",
   "name": "python",
   "nbconvert_exporter": "python",
   "pygments_lexer": "ipython3",
   "version": "3.11.11"
  }
 },
 "nbformat": 4,
 "nbformat_minor": 5
}
