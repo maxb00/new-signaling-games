{
 "cells": [
  {
   "cell_type": "markdown",
   "id": "a7442252",
   "metadata": {},
   "source": [
    "# General tests\n",
    "1000 runs each setup, checking success/failure rate by payoff\n",
    "(Success == payoff > 99.99%)"
   ]
  },
  {
   "cell_type": "markdown",
   "id": "ce978969",
   "metadata": {},
   "source": [
    "### Notebook globals\n",
    "Change these once per location."
   ]
  },
  {
   "cell_type": "code",
   "execution_count": 1,
   "id": "1009a5be",
   "metadata": {},
   "outputs": [],
   "source": [
    "import sys\n",
    "from multiprocess import Pool # type: ignore\n",
    "\n",
    "# changed from template: requires different syntax on Windows/Linux\n",
    "sys.path.append(\"../../\") # this should point to the package root containing /src\n",
    "from src.util import get_stats_by_folder, delta_reward_fn\n",
    "from src.util.runner import run_game"
   ]
  },
  {
   "cell_type": "code",
   "execution_count": 2,
   "id": "491320a9",
   "metadata": {},
   "outputs": [],
   "source": [
    "# Set the observation chance\n",
    "observation_chance = 0.4\n",
    "\n",
    "# choose the size and length of batches and runs\n",
    "iterations_per_game = 1_000_000\n",
    "batch_size = 1_000\n",
    "\n",
    "# set the state prior distrobution\n",
    "state_prior_distrobution = \"uniform\" # or \"normal\"\n",
    "\n",
    "# choose a reward function\n",
    "reward_function = delta_reward_fn\n",
    "reward_param = (1, 1) # used for calculating optimal payoff and info measure. c and d in linear reward function\n",
    "\n",
    "# choose a weight transformation function, if any\n",
    "weight_transformation_function = None # None or transform.\n",
    "\n",
    "# choose image options: How often should the game be sampled for the results visual, and what form should the visual be?\n",
    "image_format_choice = \"\" # can be \"gif\" or \"image\". Must be empty string in parallelized test!!\n",
    "record_interval = 1_000 # number of steps between game samples\n",
    "\n",
    "# choose a success threshold. \n",
    "success_threshold = 0.8 # If a game's final payoff is larger, it is considered a success.\n",
    "pooling_threshold = 0.8 # If a no signal more probable than this threshold for a given state, we're pooling.\n",
    "\n",
    "# choose if the sender and receiver use stimulus generalization\n",
    "sender_stimgen = False\n",
    "receiver_stimgen = False\n",
    "\n",
    "# finally, choose a random seed for reproducability.\n",
    "seed = 0 # None is suggested for more than one play\n",
    "n_seeds = 5 # number of seeds to show when printing results"
   ]
  },
  {
   "cell_type": "markdown",
   "id": "0b233d45",
   "metadata": {},
   "source": [
    "## 2 states, 2 signals, 2 actions"
   ]
  },
  {
   "cell_type": "code",
   "execution_count": 3,
   "id": "6f8d1bc7",
   "metadata": {},
   "outputs": [],
   "source": [
    "# Game setup constants\n",
    "n_states = 2\n",
    "n_signals = 2\n",
    "n_actions = 2\n",
    "\n",
    "# zip arguments for multiprocessing\n",
    "args_list = [n_states, n_signals, n_actions, sender_stimgen, receiver_stimgen, state_prior_distrobution, observation_chance, reward_param, reward_function, weight_transformation_function, iterations_per_game, record_interval]\n",
    "if seed is None:\n",
    "    argmap = ((seed, *args_list, i, image_format_choice) for i in range(batch_size))\n",
    "else:\n",
    "    argmap = ((seed+i, *args_list, i, image_format_choice) for i in range(batch_size))"
   ]
  },
  {
   "cell_type": "code",
   "execution_count": 4,
   "id": "cf431eba",
   "metadata": {},
   "outputs": [],
   "source": [
    "# run games as a parallelized Process pool.\n",
    "with Pool() as p:\n",
    "    p.starmap(run_game, tuple(argmap))"
   ]
  },
  {
   "cell_type": "markdown",
   "id": "3154e439",
   "metadata": {},
   "source": [
    "### Reading results\n",
    "CSV files ignored in .gitignore, should be reproducable with seed."
   ]
  },
  {
   "cell_type": "code",
   "execution_count": 5,
   "id": "3ef06c2f",
   "metadata": {},
   "outputs": [
    {
     "data": {
      "text/plain": [
       "{'success_count': 989,\n",
       " 'final_payoff_range': [0.5005838691246419, 0.9999959998210216],\n",
       " 'final_payoff_average': 0.9347045266009355,\n",
       " 'final_payoff_seeds': [994, 754],\n",
       " 'rolling_payoff_range': [0.505364, 0.999964],\n",
       " 'rolling_payoff_average': 0.9928320060000012,\n",
       " 'rolling_payoff_seeds': [994, 71],\n",
       " 'pooling_count': 11,\n",
       " 'pooling_seeds': [647, 297, 832, 677, 480],\n",
       " '<=0.5_count': 0,\n",
       " '<=0.5_seeds': [],\n",
       " '0.5-0.75_count': 11,\n",
       " '0.5-0.75_seeds': [647, 297, 832, 677, 480],\n",
       " '0.75-0.875_count': 6,\n",
       " '0.75-0.875_seeds': [30, 412, 316, 293, 651],\n",
       " '0.875-1_count': 983,\n",
       " '0.875-1_seeds': [780, 871, 469, 309, 288]}"
      ]
     },
     "execution_count": 5,
     "metadata": {},
     "output_type": "execute_result"
    }
   ],
   "source": [
    "get_stats_by_folder(\"./simulations/2_2_2/\", success_threshold, n_signals, pooling_threshold, n_seeds)"
   ]
  },
  {
   "cell_type": "markdown",
   "id": "49684aff",
   "metadata": {},
   "source": [
    "## 3 states, 3 signals, 3 actions"
   ]
  },
  {
   "cell_type": "code",
   "execution_count": 6,
   "id": "f97f1e4e",
   "metadata": {},
   "outputs": [],
   "source": [
    "# Game setup constants\n",
    "n_states = 3\n",
    "n_signals = 3\n",
    "n_actions = 3\n",
    "\n",
    "# zip arguments for multiprocessing\n",
    "args_list = [n_states, n_signals, n_actions, sender_stimgen, receiver_stimgen, state_prior_distrobution, observation_chance, reward_param, reward_function, weight_transformation_function, iterations_per_game, record_interval]\n",
    "if seed is None:\n",
    "    argmap = ((seed, *args_list, i, image_format_choice) for i in range(batch_size))\n",
    "else:\n",
    "    argmap = ((seed+i, *args_list, i, image_format_choice) for i in range(batch_size))"
   ]
  },
  {
   "cell_type": "code",
   "execution_count": 7,
   "id": "39be08b0",
   "metadata": {},
   "outputs": [],
   "source": [
    "with Pool() as p:\n",
    "    p.starmap(run_game, tuple(argmap))"
   ]
  },
  {
   "cell_type": "markdown",
   "id": "8c38f70f",
   "metadata": {},
   "source": [
    "### Reading results\n",
    "CSV files ignored in .gitignore, should be reproducable with seed."
   ]
  },
  {
   "cell_type": "code",
   "execution_count": 8,
   "id": "8b5503ff",
   "metadata": {},
   "outputs": [
    {
     "data": {
      "text/plain": [
       "{'success_count': 872,\n",
       " 'final_payoff_range': [0.5188081926917352, 0.9999859968159798],\n",
       " 'final_payoff_average': 0.8838716323249701,\n",
       " 'final_payoff_seeds': [933, 497],\n",
       " 'rolling_payoff_range': [0.665434, 0.999829],\n",
       " 'rolling_payoff_average': 0.9556117470000017,\n",
       " 'rolling_payoff_seeds': [462, 497],\n",
       " 'pooling_count': 125,\n",
       " 'pooling_seeds': [252, 515, 696, 631, 238],\n",
       " '<=0.5_count': 0,\n",
       " '<=0.5_seeds': [],\n",
       " '0.5-0.75_count': 119,\n",
       " '0.5-0.75_seeds': [252, 515, 696, 631, 617],\n",
       " '0.75-0.875_count': 15,\n",
       " '0.75-0.875_seeds': [577, 238, 218, 847, 758],\n",
       " '0.875-1_count': 866,\n",
       " '0.875-1_seeds': [780, 871, 469, 309, 288]}"
      ]
     },
     "execution_count": 8,
     "metadata": {},
     "output_type": "execute_result"
    }
   ],
   "source": [
    "get_stats_by_folder(\"./simulations/3_3_3/\", success_threshold, n_signals, pooling_threshold, n_seeds)"
   ]
  },
  {
   "cell_type": "markdown",
   "id": "49684aff",
   "metadata": {},
   "source": [
    "## 4 states, 4 signals, 4 actions"
   ]
  },
  {
   "cell_type": "code",
   "execution_count": 9,
   "id": "f97f1e4e",
   "metadata": {},
   "outputs": [],
   "source": [
    "# Game setup constants\n",
    "n_states = 4\n",
    "n_signals = 4\n",
    "n_actions = 4\n",
    "\n",
    "# zip arguments for multiprocessing\n",
    "args_list = [n_states, n_signals, n_actions, sender_stimgen, receiver_stimgen, state_prior_distrobution, observation_chance, reward_param, reward_function, weight_transformation_function, iterations_per_game, record_interval]\n",
    "if seed is None:\n",
    "    argmap = ((seed, *args_list, i, image_format_choice) for i in range(batch_size))\n",
    "else:\n",
    "    argmap = ((seed+i, *args_list, i, image_format_choice) for i in range(batch_size))"
   ]
  },
  {
   "cell_type": "code",
   "execution_count": 10,
   "id": "39be08b0",
   "metadata": {},
   "outputs": [],
   "source": [
    "with Pool() as p:\n",
    "    p.starmap(run_game, tuple(argmap))"
   ]
  },
  {
   "cell_type": "markdown",
   "id": "8c38f70f",
   "metadata": {},
   "source": [
    "### Reading results\n",
    "CSV files ignored in .gitignore, should be reproducable with seed."
   ]
  },
  {
   "cell_type": "code",
   "execution_count": 11,
   "id": "8b5503ff",
   "metadata": {},
   "outputs": [
    {
     "data": {
      "text/plain": [
       "{'success_count': 818,\n",
       " 'final_payoff_range': [0.5636123688721713, 0.9999529788097916],\n",
       " 'final_payoff_average': 0.8689656664604266,\n",
       " 'final_payoff_seeds': [518, 233],\n",
       " 'rolling_payoff_range': [0.736318, 0.999629],\n",
       " 'rolling_payoff_average': 0.9459053000000003,\n",
       " 'rolling_payoff_seeds': [4, 466],\n",
       " 'pooling_count': 189,\n",
       " 'pooling_seeds': [977, 347, 577, 517, 218],\n",
       " '<=0.5_count': 0,\n",
       " '<=0.5_seeds': [],\n",
       " '0.5-0.75_count': 18,\n",
       " '0.5-0.75_seeds': [256, 887, 362, 936, 206],\n",
       " '0.75-0.875_count': 187,\n",
       " '0.75-0.875_seeds': [977, 347, 577, 517, 631],\n",
       " '0.875-1_count': 795,\n",
       " '0.875-1_seeds': [780, 871, 469, 309, 288]}"
      ]
     },
     "execution_count": 11,
     "metadata": {},
     "output_type": "execute_result"
    }
   ],
   "source": [
    "get_stats_by_folder(\"./simulations/4_4_4/\", success_threshold, n_signals, pooling_threshold, n_seeds)"
   ]
  },
  {
   "cell_type": "markdown",
   "id": "49684aff",
   "metadata": {},
   "source": [
    "## 8 states, 8 signals, 8 actions"
   ]
  },
  {
   "cell_type": "code",
   "execution_count": 12,
   "id": "f97f1e4e",
   "metadata": {},
   "outputs": [],
   "source": [
    "# Game setup constants\n",
    "n_states = 8\n",
    "n_signals = 8\n",
    "n_actions = 8\n",
    "\n",
    "# zip arguments for multiprocessing\n",
    "args_list = [n_states, n_signals, n_actions, sender_stimgen, receiver_stimgen, state_prior_distrobution, observation_chance, reward_param, reward_function, weight_transformation_function, iterations_per_game, record_interval]\n",
    "if seed is None:\n",
    "    argmap = ((seed, *args_list, i, image_format_choice) for i in range(batch_size))\n",
    "else:\n",
    "    argmap = ((seed+i, *args_list, i, image_format_choice) for i in range(batch_size))"
   ]
  },
  {
   "cell_type": "code",
   "execution_count": 13,
   "id": "39be08b0",
   "metadata": {},
   "outputs": [],
   "source": [
    "with Pool() as p:\n",
    "    p.starmap(run_game, tuple(argmap))"
   ]
  },
  {
   "cell_type": "markdown",
   "id": "8c38f70f",
   "metadata": {},
   "source": [
    "### Reading results\n",
    "CSV files ignored in .gitignore, should be reproducable with seed."
   ]
  },
  {
   "cell_type": "code",
   "execution_count": 14,
   "id": "8b5503ff",
   "metadata": {},
   "outputs": [
    {
     "data": {
      "text/plain": [
       "{'success_count': 945,\n",
       " 'final_payoff_range': [0.4368482022727843, 0.999674885572605],\n",
       " 'final_payoff_average': 0.8303835839643677,\n",
       " 'final_payoff_seeds': [248, 334],\n",
       " 'rolling_payoff_range': [0.631593, 0.996926],\n",
       " 'rolling_payoff_average': 0.9134640939999993,\n",
       " 'rolling_payoff_seeds': [248, 124],\n",
       " 'pooling_count': 531,\n",
       " 'pooling_seeds': [780, 469, 288, 977, 426],\n",
       " '<=0.5_count': 0,\n",
       " '<=0.5_seeds': [],\n",
       " '0.5-0.75_count': 13,\n",
       " '0.5-0.75_seeds': [910, 550, 662, 15, 379],\n",
       " '0.75-0.875_count': 401,\n",
       " '0.75-0.875_seeds': [469, 288, 977, 426, 252],\n",
       " '0.875-1_count': 586,\n",
       " '0.875-1_seeds': [780, 871, 309, 471, 376]}"
      ]
     },
     "execution_count": 14,
     "metadata": {},
     "output_type": "execute_result"
    }
   ],
   "source": [
    "get_stats_by_folder(\"./simulations/8_8_8/\", success_threshold, n_signals, pooling_threshold, n_seeds)"
   ]
  }
 ],
 "metadata": {
  "interpreter": {
   "hash": "08b55d0b912724684cc88b9f4a6df93526d0c0adc07f26d8f511e1e539bc6714"
  },
  "kernelspec": {
   "display_name": "Python 3.11.11 64-bit ('signal': conda)",
   "name": "python3"
  },
  "language_info": {
   "codemirror_mode": {
    "name": "ipython",
    "version": 3
   },
   "file_extension": ".py",
   "mimetype": "text/x-python",
   "name": "python",
   "nbconvert_exporter": "python",
   "pygments_lexer": "ipython3",
   "version": "3.11.11"
  }
 },
 "nbformat": 4,
 "nbformat_minor": 5
}
