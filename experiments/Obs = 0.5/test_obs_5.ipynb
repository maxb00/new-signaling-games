{
 "cells": [
  {
   "cell_type": "markdown",
   "id": "a7442252",
   "metadata": {},
   "source": [
    "# General tests\n",
    "1000 runs each setup, checking success/failure rate by payoff\n",
    "(Success == payoff > 99.99%)"
   ]
  },
  {
   "cell_type": "markdown",
   "id": "ce978969",
   "metadata": {},
   "source": [
    "### Notebook globals\n",
    "Change these once per location."
   ]
  },
  {
   "cell_type": "code",
   "execution_count": 1,
   "id": "1009a5be",
   "metadata": {},
   "outputs": [],
   "source": [
    "import sys\n",
    "from multiprocess import Pool # type: ignore\n",
    "\n",
    "# changed from template: requires different syntax on Windows/Linux\n",
    "sys.path.append(\"../../\") # this should point to the package root containing /src\n",
    "from src.util import get_stats_by_folder, delta_reward_fn\n",
    "from src.util.runner import run_game"
   ]
  },
  {
   "cell_type": "code",
   "execution_count": 2,
   "id": "491320a9",
   "metadata": {},
   "outputs": [],
   "source": [
    "# Set the observation chance\n",
    "observation_chance = 0.5\n",
    "\n",
    "# choose the size and length of batches and runs\n",
    "iterations_per_game = 1_000_000\n",
    "batch_size = 1_000\n",
    "\n",
    "# set the state prior distrobution\n",
    "state_prior_distrobution = \"uniform\" # or \"normal\"\n",
    "\n",
    "# choose a reward function\n",
    "reward_function = delta_reward_fn\n",
    "reward_param = (1, 1) # used for calculating optimal payoff and info measure. c and d in linear reward function\n",
    "\n",
    "# choose a weight transformation function, if any\n",
    "weight_transformation_function = None # None or transform.\n",
    "\n",
    "# choose image options: How often should the game be sampled for the results visual, and what form should the visual be?\n",
    "image_format_choice = \"\" # can be \"gif\" or \"image\". Must be empty string in parallelized test!!\n",
    "record_interval = 1_000 # number of steps between game samples\n",
    "\n",
    "# choose a success threshold. \n",
    "success_threshold = 0.8 # If a game's final payoff is larger, it is considered a success.\n",
    "pooling_threshold = 0.8 # If a no signal more probable than this threshold for a given state, we're pooling.\n",
    "\n",
    "# choose if the sender and receiver use stimulus generalization\n",
    "sender_stimgen = False\n",
    "receiver_stimgen = False\n",
    "\n",
    "# finally, choose a random seed for reproducability.\n",
    "seed = 0 # None is suggested for more than one play\n",
    "n_seeds = 5 # number of seeds to show when printing results"
   ]
  },
  {
   "cell_type": "markdown",
   "id": "0b233d45",
   "metadata": {},
   "source": [
    "## 2 states, 2 signals, 2 actions"
   ]
  },
  {
   "cell_type": "code",
   "execution_count": 3,
   "id": "6f8d1bc7",
   "metadata": {},
   "outputs": [],
   "source": [
    "# Game setup constants\n",
    "n_states = 2\n",
    "n_signals = 2\n",
    "n_actions = 2\n",
    "\n",
    "# zip arguments for multiprocessing\n",
    "args_list = [n_states, n_signals, n_actions, sender_stimgen, receiver_stimgen, state_prior_distrobution, observation_chance, reward_param, reward_function, weight_transformation_function, iterations_per_game, record_interval]\n",
    "if seed is None:\n",
    "    argmap = ((seed, *args_list, i, image_format_choice) for i in range(batch_size))\n",
    "else:\n",
    "    argmap = ((seed+i, *args_list, i, image_format_choice) for i in range(batch_size))"
   ]
  },
  {
   "cell_type": "code",
   "execution_count": 4,
   "id": "cf431eba",
   "metadata": {},
   "outputs": [],
   "source": [
    "# run games as a parallelized Process pool.\n",
    "with Pool() as p:\n",
    "    p.starmap(run_game, tuple(argmap))"
   ]
  },
  {
   "cell_type": "markdown",
   "id": "3154e439",
   "metadata": {},
   "source": [
    "### Reading results\n",
    "CSV files ignored in .gitignore, should be reproducable with seed."
   ]
  },
  {
   "cell_type": "code",
   "execution_count": 4,
   "id": "3ef06c2f",
   "metadata": {},
   "outputs": [
    {
     "data": {
      "text/plain": [
       "{'success_count': 983,\n",
       " 'final_payoff_range': [0.500006478890065, 0.999995999807022],\n",
       " 'final_payoff_average': 0.9096554516918067,\n",
       " 'final_payoff_seeds': [316, 754],\n",
       " 'rolling_payoff_range': [0.511562, 0.999964],\n",
       " 'rolling_payoff_average': 0.9914344509999995,\n",
       " 'rolling_payoff_seeds': [480, 71],\n",
       " 'pooling_count': 13,\n",
       " 'pooling_seeds': [252, 316, 297, 877, 221],\n",
       " '<=0.5_count': 0,\n",
       " '<=0.5_seeds': [],\n",
       " '0.5-0.75_count': 14,\n",
       " '0.5-0.75_seeds': [252, 316, 297, 877, 221],\n",
       " '0.75-0.875_count': 7,\n",
       " '0.75-0.875_seeds': [30, 825, 629, 602, 124],\n",
       " '0.875-1_count': 979,\n",
       " '0.875-1_seeds': [780, 871, 469, 309, 288]}"
      ]
     },
     "execution_count": 4,
     "metadata": {},
     "output_type": "execute_result"
    }
   ],
   "source": [
    "get_stats_by_folder(\"./simulations/2_2_2/\", success_threshold, n_signals, pooling_threshold, n_seeds)"
   ]
  },
  {
   "cell_type": "markdown",
   "id": "49684aff",
   "metadata": {},
   "source": [
    "## 3 states, 3 signals, 3 actions"
   ]
  },
  {
   "cell_type": "code",
   "execution_count": 5,
   "id": "f97f1e4e",
   "metadata": {},
   "outputs": [],
   "source": [
    "# Game setup constants\n",
    "n_states = 3\n",
    "n_signals = 3\n",
    "n_actions = 3\n",
    "\n",
    "# zip arguments for multiprocessing\n",
    "args_list = [n_states, n_signals, n_actions, sender_stimgen, receiver_stimgen, state_prior_distrobution, observation_chance, reward_param, reward_function, weight_transformation_function, iterations_per_game, record_interval]\n",
    "if seed is None:\n",
    "    argmap = ((seed, *args_list, i, image_format_choice) for i in range(batch_size))\n",
    "else:\n",
    "    argmap = ((seed+i, *args_list, i, image_format_choice) for i in range(batch_size))"
   ]
  },
  {
   "cell_type": "code",
   "execution_count": 7,
   "id": "39be08b0",
   "metadata": {},
   "outputs": [],
   "source": [
    "with Pool() as p:\n",
    "    p.starmap(run_game, tuple(argmap))"
   ]
  },
  {
   "cell_type": "markdown",
   "id": "8c38f70f",
   "metadata": {},
   "source": [
    "### Reading results\n",
    "CSV files ignored in .gitignore, should be reproducable with seed."
   ]
  },
  {
   "cell_type": "code",
   "execution_count": 6,
   "id": "8b5503ff",
   "metadata": {},
   "outputs": [
    {
     "data": {
      "text/plain": [
       "{'success_count': 867,\n",
       " 'final_payoff_range': [0.5000004764184175, 0.9999749925021265],\n",
       " 'final_payoff_average': 0.8517273696961054,\n",
       " 'final_payoff_seeds': [822, 959],\n",
       " 'rolling_payoff_range': [0.667781, 0.999807],\n",
       " 'rolling_payoff_average': 0.9556361230000011,\n",
       " 'rolling_payoff_seeds': [515, 959],\n",
       " 'pooling_count': 127,\n",
       " 'pooling_seeds': [871, 530, 515, 700, 354],\n",
       " '<=0.5_count': 0,\n",
       " '<=0.5_seeds': [],\n",
       " '0.5-0.75_count': 122,\n",
       " '0.5-0.75_seeds': [871, 530, 515, 700, 354],\n",
       " '0.75-0.875_count': 15,\n",
       " '0.75-0.875_seeds': [577, 412, 894, 283, 815],\n",
       " '0.875-1_count': 863,\n",
       " '0.875-1_seeds': [780, 469, 309, 288, 471]}"
      ]
     },
     "execution_count": 6,
     "metadata": {},
     "output_type": "execute_result"
    }
   ],
   "source": [
    "get_stats_by_folder(\"./simulations/3_3_3/\", success_threshold, n_signals, pooling_threshold, n_seeds)"
   ]
  },
  {
   "cell_type": "markdown",
   "id": "49684aff",
   "metadata": {},
   "source": [
    "## 4 states, 4 signals, 4 actions"
   ]
  },
  {
   "cell_type": "code",
   "execution_count": 9,
   "id": "f97f1e4e",
   "metadata": {},
   "outputs": [],
   "source": [
    "# Game setup constants\n",
    "n_states = 4\n",
    "n_signals = 4\n",
    "n_actions = 4\n",
    "\n",
    "# zip arguments for multiprocessing\n",
    "args_list = [n_states, n_signals, n_actions, sender_stimgen, receiver_stimgen, state_prior_distrobution, observation_chance, reward_param, reward_function, weight_transformation_function, iterations_per_game, record_interval]\n",
    "if seed is None:\n",
    "    argmap = ((seed, *args_list, i, image_format_choice) for i in range(batch_size))\n",
    "else:\n",
    "    argmap = ((seed+i, *args_list, i, image_format_choice) for i in range(batch_size))"
   ]
  },
  {
   "cell_type": "code",
   "execution_count": 10,
   "id": "39be08b0",
   "metadata": {},
   "outputs": [],
   "source": [
    "with Pool() as p:\n",
    "    p.starmap(run_game, tuple(argmap))"
   ]
  },
  {
   "cell_type": "markdown",
   "id": "8c38f70f",
   "metadata": {},
   "source": [
    "### Reading results\n",
    "CSV files ignored in .gitignore, should be reproducable with seed."
   ]
  },
  {
   "cell_type": "code",
   "execution_count": 11,
   "id": "8b5503ff",
   "metadata": {},
   "outputs": [
    {
     "data": {
      "text/plain": [
       "{'success_count': 817,\n",
       " 'final_payoff_range': [0.5381104929642345, 0.9999319567563696],\n",
       " 'final_payoff_average': 0.831066840553831,\n",
       " 'final_payoff_seeds': [467, 883],\n",
       " 'rolling_payoff_range': [0.700014, 0.999597],\n",
       " 'rolling_payoff_average': 0.9444635029999989,\n",
       " 'rolling_payoff_seeds': [786, 56],\n",
       " 'pooling_count': 198,\n",
       " 'pooling_seeds': [780, 977, 376, 515, 411],\n",
       " '<=0.5_count': 0,\n",
       " '<=0.5_seeds': [],\n",
       " '0.5-0.75_count': 5,\n",
       " '0.5-0.75_seeds': [950, 955, 6, 20, 786],\n",
       " '0.75-0.875_count': 204,\n",
       " '0.75-0.875_seeds': [780, 977, 376, 515, 411],\n",
       " '0.875-1_count': 791,\n",
       " '0.875-1_seeds': [871, 469, 309, 288, 471]}"
      ]
     },
     "execution_count": 11,
     "metadata": {},
     "output_type": "execute_result"
    }
   ],
   "source": [
    "get_stats_by_folder(\"./simulations/4_4_4/\", success_threshold, n_signals, pooling_threshold, n_seeds)"
   ]
  },
  {
   "cell_type": "markdown",
   "id": "49684aff",
   "metadata": {},
   "source": [
    "## 8 states, 8 signals, 8 actions"
   ]
  },
  {
   "cell_type": "code",
   "execution_count": 12,
   "id": "f97f1e4e",
   "metadata": {},
   "outputs": [],
   "source": [
    "# Game setup constants\n",
    "n_states = 8\n",
    "n_signals = 8\n",
    "n_actions = 8\n",
    "\n",
    "# zip arguments for multiprocessing\n",
    "args_list = [n_states, n_signals, n_actions, sender_stimgen, receiver_stimgen, state_prior_distrobution, observation_chance, reward_param, reward_function, weight_transformation_function, iterations_per_game, record_interval]\n",
    "if seed is None:\n",
    "    argmap = ((seed, *args_list, i, image_format_choice) for i in range(batch_size))\n",
    "else:\n",
    "    argmap = ((seed+i, *args_list, i, image_format_choice) for i in range(batch_size))"
   ]
  },
  {
   "cell_type": "code",
   "execution_count": 13,
   "id": "39be08b0",
   "metadata": {},
   "outputs": [],
   "source": [
    "with Pool() as p:\n",
    "    p.starmap(run_game, tuple(argmap))"
   ]
  },
  {
   "cell_type": "markdown",
   "id": "8c38f70f",
   "metadata": {},
   "source": [
    "### Reading results\n",
    "CSV files ignored in .gitignore, should be reproducable with seed."
   ]
  },
  {
   "cell_type": "code",
   "execution_count": 14,
   "id": "8b5503ff",
   "metadata": {},
   "outputs": [
    {
     "data": {
      "text/plain": [
       "{'success_count': 939,\n",
       " 'final_payoff_range': [0.49564189752458926, 0.9993570763053582],\n",
       " 'final_payoff_average': 0.7875447701971947,\n",
       " 'final_payoff_seeds': [186, 80],\n",
       " 'rolling_payoff_range': [0.674097, 0.995935],\n",
       " 'rolling_payoff_average': 0.9095813750000004,\n",
       " 'rolling_payoff_seeds': [451, 80],\n",
       " 'pooling_count': 543,\n",
       " 'pooling_seeds': [780, 469, 426, 252, 347],\n",
       " '<=0.5_count': 0,\n",
       " '<=0.5_seeds': [],\n",
       " '0.5-0.75_count': 12,\n",
       " '0.5-0.75_seeds': [780, 481, 454, 15, 314],\n",
       " '0.75-0.875_count': 370,\n",
       " '0.75-0.875_seeds': [469, 426, 252, 347, 261],\n",
       " '0.875-1_count': 618,\n",
       " '0.875-1_seeds': [871, 309, 288, 471, 977]}"
      ]
     },
     "execution_count": 14,
     "metadata": {},
     "output_type": "execute_result"
    }
   ],
   "source": [
    "get_stats_by_folder(\"./simulations/8_8_8/\", success_threshold, n_signals, pooling_threshold, n_seeds)"
   ]
  }
 ],
 "metadata": {
  "interpreter": {
   "hash": "08b55d0b912724684cc88b9f4a6df93526d0c0adc07f26d8f511e1e539bc6714"
  },
  "kernelspec": {
   "display_name": "Python 3.11.11 64-bit ('signal': conda)",
   "name": "python3"
  },
  "language_info": {
   "codemirror_mode": {
    "name": "ipython",
    "version": 3
   },
   "file_extension": ".py",
   "mimetype": "text/x-python",
   "name": "python",
   "nbconvert_exporter": "python",
   "pygments_lexer": "ipython3",
   "version": "3.11.11"
  }
 },
 "nbformat": 4,
 "nbformat_minor": 5
}
