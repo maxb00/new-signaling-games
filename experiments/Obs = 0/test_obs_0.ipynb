{
 "cells": [
  {
   "cell_type": "markdown",
   "id": "a7442252",
   "metadata": {},
   "source": [
    "# General tests\n",
    "1000 runs each setup, checking success/failure rate by payoff\n",
    "(Success == payoff > 99.99%)"
   ]
  },
  {
   "cell_type": "markdown",
   "id": "ce978969",
   "metadata": {},
   "source": [
    "### Notebook globals\n",
    "Change these once per location."
   ]
  },
  {
   "cell_type": "code",
   "execution_count": 1,
   "id": "1009a5be",
   "metadata": {},
   "outputs": [],
   "source": [
    "import sys\n",
    "from multiprocess import Pool # type: ignore\n",
    "\n",
    "# changed from template: requires different syntax on Windows/Linux\n",
    "sys.path.append(\"../../\") # this should point to the package root containing /src\n",
    "from src.util import get_stats_by_folder, delta_reward_fn\n",
    "from src.util.runner import run_game"
   ]
  },
  {
   "cell_type": "code",
   "execution_count": 2,
   "id": "491320a9",
   "metadata": {},
   "outputs": [],
   "source": [
    "# Set the observation chance\n",
    "observation_chance = 0.0\n",
    "\n",
    "# choose the size and length of batches and runs\n",
    "iterations_per_game = 1_000_000\n",
    "batch_size = 1_000\n",
    "\n",
    "# set the state prior distrobution\n",
    "state_prior_distrobution = \"uniform\" # or \"normal\"\n",
    "\n",
    "# choose a reward function\n",
    "reward_function = delta_reward_fn\n",
    "reward_param = (1, 1) # used for calculating optimal payoff and info measure. c and d in linear reward function\n",
    "\n",
    "# choose a weight transformation function, if any\n",
    "weight_transformation_function = None # None or transform.\n",
    "\n",
    "# choose image options: How often should the game be sampled for the results visual, and what form should the visual be?\n",
    "image_format_choice = \"\" # can be \"gif\" or \"image\". Must be empty string in parallelized test!!\n",
    "record_interval = 1_000 # number of steps between game samples\n",
    "\n",
    "# choose a success threshold. If a game's final payoff is larger, it is considered a success.\n",
    "success_threshold = 0.8 \n",
    "\n",
    "# choose if the sender and receiver use stimulus generalization\n",
    "sender_stimgen = False\n",
    "receiver_stimgen = False\n",
    "\n",
    "# finally, choose a random seed for reproducability.\n",
    "seed = 0 # None is suggested for more than one play"
   ]
  },
  {
   "cell_type": "markdown",
   "id": "0b233d45",
   "metadata": {},
   "source": [
    "## 2 states, 2 signals, 2 actions"
   ]
  },
  {
   "cell_type": "code",
   "execution_count": 3,
   "id": "6f8d1bc7",
   "metadata": {},
   "outputs": [],
   "source": [
    "# Game setup constants\n",
    "n_states = 2\n",
    "n_signals = 2\n",
    "n_actions = 2\n",
    "\n",
    "# zip arguments for multiprocessing\n",
    "args_list = [n_states, n_signals, n_actions, sender_stimgen, receiver_stimgen, state_prior_distrobution, observation_chance, reward_param, reward_function, weight_transformation_function, iterations_per_game, record_interval]\n",
    "if seed is None:\n",
    "    argmap = ((seed, *args_list, i, image_format_choice) for i in range(batch_size))\n",
    "else:\n",
    "    argmap = ((seed+i, *args_list, i, image_format_choice) for i in range(batch_size))"
   ]
  },
  {
   "cell_type": "code",
   "execution_count": null,
   "id": "cf431eba",
   "metadata": {},
   "outputs": [],
   "source": [
    "# run games as a parallelized Process pool.\n",
    "p = Pool()\n",
    "p.starmap(run_game, tuple(argmap))"
   ]
  },
  {
   "cell_type": "markdown",
   "id": "3154e439",
   "metadata": {},
   "source": [
    "### Reading results\n",
    "CSV files ignored in .gitignore, should be reproducable with seed."
   ]
  },
  {
   "cell_type": "code",
   "execution_count": 5,
   "id": "3ef06c2f",
   "metadata": {},
   "outputs": [
    {
     "data": {
      "text/plain": [
       "{'success_count': 1002,\n",
       " 'final_payoff_range': [0.9272099411849992, 0.9999959998754748],\n",
       " 'final_payoff_average': 0.9995871163195336,\n",
       " 'final_payoff_seeds': [278, 84],\n",
       " 'rolling_payoff_range': [0.824583, 0.999965],\n",
       " 'rolling_payoff_average': 0.9983858662674647,\n",
       " 'rolling_payoff_seeds': [278, 71],\n",
       " 'pooling_count': 0,\n",
       " 'pooling_seeds': [],\n",
       " '<=0.5_count': 0,\n",
       " '<=0.5_seeds': [],\n",
       " '0.5-0.75_count': 0,\n",
       " '0.5-0.75_seeds': [],\n",
       " '0.75-0.875_count': 2,\n",
       " '0.75-0.875_seeds': [808, 278],\n",
       " '0.875-1_count': 1000,\n",
       " '0.875-1_seeds': [780, 871, 469, 309, 288]}"
      ]
     },
     "execution_count": 5,
     "metadata": {},
     "output_type": "execute_result"
    }
   ],
   "source": [
    "get_stats_by_folder(\"./simulations/2_2_2/\", success_threshold, n_signals, 0.8, 5)"
   ]
  },
  {
   "cell_type": "markdown",
   "id": "49684aff",
   "metadata": {},
   "source": [
    "## 3 states, 3 signals, 3 actions"
   ]
  },
  {
   "cell_type": "code",
   "execution_count": 6,
   "id": "f97f1e4e",
   "metadata": {},
   "outputs": [],
   "source": [
    "# Game setup constants\n",
    "n_states = 3\n",
    "n_signals = 3\n",
    "n_actions = 3\n",
    "\n",
    "# zip arguments for multiprocessing\n",
    "args_list = [n_states, n_signals, n_actions, sender_stimgen, receiver_stimgen, state_prior_distrobution, observation_chance, reward_param, reward_function, weight_transformation_function, iterations_per_game, record_interval]\n",
    "if seed is None:\n",
    "    argmap = ((seed, *args_list, i, image_format_choice) for i in range(batch_size))\n",
    "else:\n",
    "    argmap = ((seed+i, *args_list, i, image_format_choice) for i in range(batch_size))"
   ]
  },
  {
   "cell_type": "code",
   "execution_count": null,
   "id": "39be08b0",
   "metadata": {},
   "outputs": [],
   "source": [
    "p = Pool()\n",
    "p.starmap(run_game, tuple(argmap))"
   ]
  },
  {
   "cell_type": "markdown",
   "id": "8c38f70f",
   "metadata": {},
   "source": [
    "### Reading results\n",
    "CSV files ignored in .gitignore, should be reproducable with seed."
   ]
  },
  {
   "cell_type": "code",
   "execution_count": 8,
   "id": "8b5503ff",
   "metadata": {},
   "outputs": [
    {
     "data": {
      "text/plain": [
       "{'success_count': 893,\n",
       " 'final_payoff_range': [0.6649130695771795, 0.9999879983367573],\n",
       " 'final_payoff_average': 0.9638521315316346,\n",
       " 'final_payoff_seeds': [612, 497],\n",
       " 'rolling_payoff_range': [0.663269, 0.999857],\n",
       " 'rolling_payoff_average': 0.9603283599999992,\n",
       " 'rolling_payoff_seeds': [401, 56],\n",
       " 'pooling_count': 108,\n",
       " 'pooling_seeds': [871, 309, 530, 261, 200],\n",
       " '<=0.5_count': 0,\n",
       " '<=0.5_seeds': [],\n",
       " '0.5-0.75_count': 104,\n",
       " '0.5-0.75_seeds': [871, 309, 530, 261, 200],\n",
       " '0.75-0.875_count': 17,\n",
       " '0.75-0.875_seeds': [97, 39, 993, 62, 91],\n",
       " '0.875-1_count': 879,\n",
       " '0.875-1_seeds': [780, 469, 288, 471, 977]}"
      ]
     },
     "execution_count": 8,
     "metadata": {},
     "output_type": "execute_result"
    }
   ],
   "source": [
    "get_stats_by_folder(\"./simulations/3_3_3/\", success_threshold, n_signals, 0.8, 5)"
   ]
  },
  {
   "cell_type": "markdown",
   "id": "49684aff",
   "metadata": {},
   "source": [
    "## 4 states, 4 signals, 4 actions"
   ]
  },
  {
   "cell_type": "code",
   "execution_count": 9,
   "id": "f97f1e4e",
   "metadata": {},
   "outputs": [],
   "source": [
    "# Game setup constants\n",
    "n_states = 4\n",
    "n_signals = 4\n",
    "n_actions = 4\n",
    "\n",
    "# zip arguments for multiprocessing\n",
    "args_list = [n_states, n_signals, n_actions, sender_stimgen, receiver_stimgen, state_prior_distrobution, observation_chance, reward_param, reward_function, weight_transformation_function, iterations_per_game, record_interval]\n",
    "if seed is None:\n",
    "    argmap = ((seed, *args_list, i, image_format_choice) for i in range(batch_size))\n",
    "else:\n",
    "    argmap = ((seed+i, *args_list, i, image_format_choice) for i in range(batch_size))"
   ]
  },
  {
   "cell_type": "code",
   "execution_count": null,
   "id": "39be08b0",
   "metadata": {},
   "outputs": [],
   "source": [
    "p = Pool()\n",
    "p.starmap(run_game, tuple(argmap))"
   ]
  },
  {
   "cell_type": "markdown",
   "id": "8c38f70f",
   "metadata": {},
   "source": [
    "### Reading results\n",
    "CSV files ignored in .gitignore, should be reproducable with seed."
   ]
  },
  {
   "cell_type": "code",
   "execution_count": 10,
   "id": "8b5503ff",
   "metadata": {},
   "outputs": [
    {
     "data": {
      "text/plain": [
       "{'success_count': 761,\n",
       " 'final_payoff_range': [0.7478701091491387, 0.9999739944127107],\n",
       " 'final_payoff_average': 0.9390774064258074,\n",
       " 'final_payoff_seeds': [958, 466],\n",
       " 'rolling_payoff_range': [0.743761, 0.999714],\n",
       " 'rolling_payoff_average': 0.9352715689999992,\n",
       " 'rolling_payoff_seeds': [958, 466],\n",
       " 'pooling_count': 244,\n",
       " 'pooling_seeds': [309, 977, 347, 261, 354],\n",
       " '<=0.5_count': 0,\n",
       " '<=0.5_seeds': [],\n",
       " '0.5-0.75_count': 207,\n",
       " '0.5-0.75_seeds': [309, 977, 347, 261, 354],\n",
       " '0.75-0.875_count': 40,\n",
       " '0.75-0.875_seeds': [189, 696, 578, 894, 165],\n",
       " '0.875-1_count': 753,\n",
       " '0.875-1_seeds': [780, 871, 469, 288, 471]}"
      ]
     },
     "execution_count": 10,
     "metadata": {},
     "output_type": "execute_result"
    }
   ],
   "source": [
    "get_stats_by_folder(\"./simulations/4_4_4/\", success_threshold, n_signals, 0.8, 5)"
   ]
  },
  {
   "cell_type": "markdown",
   "id": "49684aff",
   "metadata": {},
   "source": [
    "## 8 states, 8 signals, 8 actions"
   ]
  },
  {
   "cell_type": "code",
   "execution_count": 11,
   "id": "f97f1e4e",
   "metadata": {},
   "outputs": [],
   "source": [
    "# Game setup constants\n",
    "n_states = 8\n",
    "n_signals = 8\n",
    "n_actions = 8\n",
    "\n",
    "# zip arguments for multiprocessing\n",
    "args_list = [n_states, n_signals, n_actions, sender_stimgen, receiver_stimgen, state_prior_distrobution, observation_chance, reward_param, reward_function, weight_transformation_function, iterations_per_game, record_interval]\n",
    "if seed is None:\n",
    "    argmap = ((seed, *args_list, i, image_format_choice) for i in range(batch_size))\n",
    "else:\n",
    "    argmap = ((seed+i, *args_list, i, image_format_choice) for i in range(batch_size))"
   ]
  },
  {
   "cell_type": "code",
   "execution_count": null,
   "id": "39be08b0",
   "metadata": {},
   "outputs": [],
   "source": [
    "p = Pool()\n",
    "p.starmap(run_game, tuple(argmap))"
   ]
  },
  {
   "cell_type": "markdown",
   "id": "8c38f70f",
   "metadata": {},
   "source": [
    "### Reading results\n",
    "CSV files ignored in .gitignore, should be reproducable with seed."
   ]
  },
  {
   "cell_type": "code",
   "execution_count": 12,
   "id": "8b5503ff",
   "metadata": {},
   "outputs": [
    {
     "data": {
      "text/plain": [
       "{'success_count': 944,\n",
       " 'final_payoff_range': [0.6335004682779013, 0.9997914379624702],\n",
       " 'final_payoff_average': 0.9135707524361723,\n",
       " 'final_payoff_seeds': [247, 333],\n",
       " 'rolling_payoff_range': [0.626989, 0.997595],\n",
       " 'rolling_payoff_average': 0.9047966390000002,\n",
       " 'rolling_payoff_seeds': [247, 55],\n",
       " 'pooling_count': 626,\n",
       " 'pooling_seeds': [780, 871, 309, 471, 252],\n",
       " '<=0.5_count': 0,\n",
       " '<=0.5_seeds': [],\n",
       " '0.5-0.75_count': 44,\n",
       " '0.5-0.75_seeds': [553, 412, 351, 419, 88],\n",
       " '0.75-0.875_count': 564,\n",
       " '0.75-0.875_seeds': [780, 871, 309, 471, 252],\n",
       " '0.875-1_count': 392,\n",
       " '0.875-1_seeds': [469, 288, 977, 426, 376]}"
      ]
     },
     "execution_count": 12,
     "metadata": {},
     "output_type": "execute_result"
    }
   ],
   "source": [
    "get_stats_by_folder(\"./simulations/8_8_8/\", success_threshold, n_signals, 0.8, 5)"
   ]
  }
 ],
 "metadata": {
  "interpreter": {
   "hash": "08b55d0b912724684cc88b9f4a6df93526d0c0adc07f26d8f511e1e539bc6714"
  },
  "kernelspec": {
   "display_name": "Python 3.11.11 64-bit ('signal': conda)",
   "name": "python3"
  },
  "language_info": {
   "codemirror_mode": {
    "name": "ipython",
    "version": 3
   },
   "file_extension": ".py",
   "mimetype": "text/x-python",
   "name": "python",
   "nbconvert_exporter": "python",
   "pygments_lexer": "ipython3",
   "version": "3.11.11"
  }
 },
 "nbformat": 4,
 "nbformat_minor": 5
}
