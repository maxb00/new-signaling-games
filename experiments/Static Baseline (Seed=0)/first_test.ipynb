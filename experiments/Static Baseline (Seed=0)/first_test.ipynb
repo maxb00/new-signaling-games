{
 "cells": [
  {
   "cell_type": "markdown",
   "id": "5aed2310",
   "metadata": {},
   "source": [
    "### First test of the fresh signaling game setup."
   ]
  },
  {
   "cell_type": "code",
   "execution_count": null,
   "id": "e83a22b8",
   "metadata": {},
   "outputs": [],
   "source": [
    "import sys\n",
    "sys.path.append(r'..\\\\..\\\\')\n",
    "from src.util import delta_reward_fn, transform\n",
    "from src.util.runner import run_game"
   ]
  },
  {
   "cell_type": "code",
   "execution_count": 2,
   "id": "36f95d64",
   "metadata": {},
   "outputs": [],
   "source": [
    "# Game setup constants\n",
    "n_states = 4\n",
    "n_signals = 4\n",
    "n_actions = 4\n",
    "sender_stimgen = False\n",
    "receiver_stimgen = False\n",
    "state_prior_distrobution = \"uniform\" # or \"normal\"\n",
    "observation_chance = 0.0 # chance the receiver sees the world state\n",
    "reward_function_choice = delta_reward_fn # or linear_reward_fn\n",
    "weight_transformation_function = None\n",
    "reward_tuple = (1, 1) # c, d\n",
    "seed = None"
   ]
  },
  {
   "cell_type": "code",
   "execution_count": null,
   "id": "6e4341df",
   "metadata": {},
   "outputs": [],
   "source": [
    "# game running constants\n",
    "num_iters = 1_000_000\n",
    "record_interval = 1_000\n",
    "image_option = \"image\" # can be \"gif\" or \"image\" - else no visual\n",
    "repeats = 1\n",
    "\n",
    "# package it up for the loop\n",
    "args_list = [seed, n_states, n_signals, n_actions, sender_stimgen, receiver_stimgen, state_prior_distrobution, observation_chance, reward_tuple, reward_function_choice, weight_transformation_function, num_iters, record_interval]"
   ]
  },
  {
   "cell_type": "code",
   "execution_count": 4,
   "id": "2cd5d0ba",
   "metadata": {},
   "outputs": [
    {
     "name": "stdout",
     "output_type": "stream",
     "text": [
      "./simulations/4_4_4/(1, 1)_10000_0.gif\n",
      "./simulations/4_4_4/(1, 1)_10000_1.gif\n"
     ]
    }
   ],
   "source": [
    "for i in range(repeats):\n",
    "    print(run_game(*args_list, i, image_option))"
   ]
  }
 ],
 "metadata": {
  "kernelspec": {
   "display_name": "sig",
   "language": "python",
   "name": "python3"
  },
  "language_info": {
   "codemirror_mode": {
    "name": "ipython",
    "version": 3
   },
   "file_extension": ".py",
   "mimetype": "text/x-python",
   "name": "python",
   "nbconvert_exporter": "python",
   "pygments_lexer": "ipython3",
   "version": "3.11.9"
  }
 },
 "nbformat": 4,
 "nbformat_minor": 5
}
