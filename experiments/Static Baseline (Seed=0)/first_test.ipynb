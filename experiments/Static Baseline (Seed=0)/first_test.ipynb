{
 "cells": [
  {
   "cell_type": "markdown",
   "id": "5aed2310",
   "metadata": {},
   "source": [
    "### First test of the fresh signaling game setup."
   ]
  },
  {
   "cell_type": "code",
   "execution_count": 16,
   "id": "e83a22b8",
   "metadata": {},
   "outputs": [],
   "source": [
    "import sys\n",
    "sys.path.append(r'..\\\\..\\\\')\n",
    "from src.signaling_game import SignalingGame\n",
    "from src.util import delta_reward_fn"
   ]
  },
  {
   "cell_type": "code",
   "execution_count": 17,
   "id": "36f95d64",
   "metadata": {},
   "outputs": [],
   "source": [
    "# Game setup constants\n",
    "n_states = 8\n",
    "n_signals = 8\n",
    "n_actions = 8\n",
    "sender_stimgen = False\n",
    "receiver_stimgen = False\n",
    "state_prior_distrobution = \"uniform\" # or \"normal\"\n",
    "observation_chance = 0.2 # chance the receiver sees the world state\n",
    "reward_function_choice = delta_reward_fn # or linear_reward_fn\n",
    "reward_tuple = (1, 1) # c, d\n",
    "seed = 0"
   ]
  },
  {
   "cell_type": "code",
   "execution_count": 18,
   "id": "06de80f2",
   "metadata": {},
   "outputs": [],
   "source": [
    "game = SignalingGame(\n",
    "    n_states,\n",
    "    n_signals,\n",
    "    n_actions,\n",
    "    sender_stimgen,\n",
    "    receiver_stimgen,\n",
    "    state_prior_distrobution,\n",
    "    observation_chance,\n",
    "    reward_tuple,\n",
    "    reward_function_choice\n",
    ")\n",
    "game.set_random_seed(seed)"
   ]
  },
  {
   "cell_type": "code",
   "execution_count": 19,
   "id": "6e4341df",
   "metadata": {},
   "outputs": [],
   "source": [
    "# game running constants\n",
    "num_iters = 1_000_000\n",
    "record_interval = 100\n",
    "image_option = \"image\" # can be \"gif\" or \"image\" - else no visual\n",
    "repeats = 1"
   ]
  },
  {
   "cell_type": "code",
   "execution_count": 20,
   "id": "2cd5d0ba",
   "metadata": {},
   "outputs": [],
   "source": [
    "game(num_iters, record_interval, repeats, image_option)"
   ]
  }
 ],
 "metadata": {
  "kernelspec": {
   "display_name": "sig",
   "language": "python",
   "name": "python3"
  },
  "language_info": {
   "codemirror_mode": {
    "name": "ipython",
    "version": 3
   },
   "file_extension": ".py",
   "mimetype": "text/x-python",
   "name": "python",
   "nbconvert_exporter": "python",
   "pygments_lexer": "ipython3",
   "version": "3.11.11"
  }
 },
 "nbformat": 4,
 "nbformat_minor": 5
}
