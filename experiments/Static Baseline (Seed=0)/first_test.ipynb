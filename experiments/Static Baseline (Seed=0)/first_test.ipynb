{
 "cells": [
  {
   "cell_type": "markdown",
   "id": "5aed2310",
   "metadata": {},
   "source": [
    "### First test of the fresh signaling game setup."
   ]
  },
  {
   "cell_type": "code",
   "execution_count": 1,
   "id": "e83a22b8",
   "metadata": {},
   "outputs": [],
   "source": [
    "import sys\n",
    "sys.path.append(r'..\\\\..\\\\')\n",
    "from src.signaling_game import SignalingGame"
   ]
  },
  {
   "cell_type": "code",
   "execution_count": null,
   "id": "36f95d64",
   "metadata": {},
   "outputs": [],
   "source": [
    "# Game setup constants\n",
    "n_states = 2\n",
    "n_signals = 2\n",
    "n_actions = 2\n",
    "sender_stimgen = False\n",
    "receiver_stimgen = False\n",
    "state_prior_distrobution = \"uniform\" # or \"normal\"\n",
    "# TODO: Refactor \"peek\" to \"observation\"\n",
    "peek_chance = 0.2 # chance the receiver sees the world state\n",
    "# TODO: Check reward function for negative rewards\n",
    "reward_tuple = (1, 1) # c, d\n",
    "seed = 0"
   ]
  },
  {
   "cell_type": "code",
   "execution_count": 3,
   "id": "06de80f2",
   "metadata": {},
   "outputs": [],
   "source": [
    "game = SignalingGame(\n",
    "    n_states,\n",
    "    n_signals,\n",
    "    n_actions,\n",
    "    sender_stimgen,\n",
    "    receiver_stimgen,\n",
    "    state_prior_distrobution,\n",
    "    peek_chance,\n",
    "    reward_tuple\n",
    ")\n",
    "game.set_random_seed(seed)"
   ]
  },
  {
   "cell_type": "code",
   "execution_count": 4,
   "id": "6e4341df",
   "metadata": {},
   "outputs": [],
   "source": [
    "# game running constants\n",
    "num_iters = 1_000_000\n",
    "record_interval = 100\n",
    "make_gif = False\n",
    "repeats = 1"
   ]
  },
  {
   "cell_type": "code",
   "execution_count": 5,
   "id": "2cd5d0ba",
   "metadata": {},
   "outputs": [],
   "source": [
    "game(num_iters, record_interval, repeats, make_gif)"
   ]
  }
 ],
 "metadata": {
  "kernelspec": {
   "display_name": "sig",
   "language": "python",
   "name": "python3"
  },
  "language_info": {
   "codemirror_mode": {
    "name": "ipython",
    "version": 3
   },
   "file_extension": ".py",
   "mimetype": "text/x-python",
   "name": "python",
   "nbconvert_exporter": "python",
   "pygments_lexer": "ipython3",
   "version": "3.11.11"
  }
 },
 "nbformat": 4,
 "nbformat_minor": 5
}
