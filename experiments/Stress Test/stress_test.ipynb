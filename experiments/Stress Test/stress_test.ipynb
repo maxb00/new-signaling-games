{
 "cells": [
  {
   "cell_type": "markdown",
   "id": "a7442252",
   "metadata": {},
   "source": [
    "# Stress Test\n",
    "1000 runs each setup, checking success/failure rate by payoff\n",
    "(Success == payoff > 99.99%)"
   ]
  },
  {
   "cell_type": "code",
   "execution_count": 11,
   "id": "1009a5be",
   "metadata": {},
   "outputs": [],
   "source": [
    "import sys\n",
    "sys.path.append(r'..\\\\..\\\\')\n",
    "from src.signaling_game import SignalingGame\n",
    "from src.util import get_stats_by_folder"
   ]
  },
  {
   "cell_type": "markdown",
   "id": "0b233d45",
   "metadata": {},
   "source": [
    "## 2 states, 2 signals, 2 actions"
   ]
  },
  {
   "cell_type": "code",
   "execution_count": 12,
   "id": "6f8d1bc7",
   "metadata": {},
   "outputs": [],
   "source": [
    "# Game setup constants\n",
    "n_states = 2\n",
    "n_signals = 2\n",
    "n_actions = 2\n",
    "sender_stimgen = False\n",
    "receiver_stimgen = False\n",
    "state_prior_distrobution = \"uniform\" # or \"normal\"\n",
    "peek_chance = 0.2 # chance the receiver sees the world state\n",
    "success_threshold = 0.8\n",
    "reward_tuple = (1, 1)\n",
    "seed = 0"
   ]
  },
  {
   "cell_type": "code",
   "execution_count": 13,
   "id": "1103d0a3",
   "metadata": {},
   "outputs": [],
   "source": [
    "game = SignalingGame(\n",
    "    n_states,\n",
    "    n_signals,\n",
    "    n_actions,\n",
    "    sender_stimgen,\n",
    "    receiver_stimgen,\n",
    "    state_prior_distrobution,\n",
    "    peek_chance,\n",
    "    reward_tuple\n",
    ")\n",
    "game.set_random_seed(seed)"
   ]
  },
  {
   "cell_type": "code",
   "execution_count": 14,
   "id": "bccb9dba",
   "metadata": {},
   "outputs": [],
   "source": [
    "# game running constants\n",
    "num_iters = 1_000_000\n",
    "record_interval = 100 # -1 means no image\n",
    "image_option = \"\"\n",
    "repeats = 100"
   ]
  },
  {
   "cell_type": "code",
   "execution_count": 15,
   "id": "f7d6e78e",
   "metadata": {},
   "outputs": [],
   "source": [
    "# main results gen loop\n",
    "for r in range(repeats):\n",
    "    game(num_iters, record_interval, r, image_option)"
   ]
  },
  {
   "cell_type": "markdown",
   "id": "3154e439",
   "metadata": {},
   "source": [
    "### Reading results\n",
    "CSV files ignored in .gitignore, should be reproducable with seed."
   ]
  },
  {
   "cell_type": "code",
   "execution_count": 16,
   "id": "3ef06c2f",
   "metadata": {},
   "outputs": [
    {
     "data": {
      "text/plain": [
       "{'success_count': 100, 'payoff_average': 99.99999999977277}"
      ]
     },
     "execution_count": 16,
     "metadata": {},
     "output_type": "execute_result"
    }
   ],
   "source": [
    "get_stats_by_folder(\"./simulations/2_2_2/\", success_threshold)"
   ]
  },
  {
   "cell_type": "markdown",
   "id": "49684aff",
   "metadata": {},
   "source": [
    "## 3 states, 3 signals, 3 actions"
   ]
  },
  {
   "cell_type": "code",
   "execution_count": 17,
   "id": "f97f1e4e",
   "metadata": {},
   "outputs": [],
   "source": [
    "# Game setup constants\n",
    "n_states = 3\n",
    "n_signals = 3\n",
    "n_actions = 3\n",
    "sender_stimgen = False\n",
    "receiver_stimgen = False\n",
    "state_prior_distrobution = \"uniform\" # or \"normal\"\n",
    "peek_chance = 0.2 # chance the receiver sees the world state\n",
    "success_threshold = 0.8\n",
    "reward_tuple = (1, 1)\n",
    "seed = 0"
   ]
  },
  {
   "cell_type": "code",
   "execution_count": 18,
   "id": "280ab445",
   "metadata": {},
   "outputs": [],
   "source": [
    "game = SignalingGame(\n",
    "    n_states,\n",
    "    n_signals,\n",
    "    n_actions,\n",
    "    sender_stimgen,\n",
    "    receiver_stimgen,\n",
    "    state_prior_distrobution,\n",
    "    peek_chance,\n",
    "    reward_tuple\n",
    ")\n",
    "game.set_random_seed(seed)"
   ]
  },
  {
   "cell_type": "code",
   "execution_count": 19,
   "id": "d577bad3",
   "metadata": {},
   "outputs": [],
   "source": [
    "# game running constants\n",
    "num_iters = 1_000_000\n",
    "record_interval = 100 # -1 means no image\n",
    "image_option = \"\"\n",
    "repeats = 100"
   ]
  },
  {
   "cell_type": "code",
   "execution_count": 20,
   "id": "77f0a659",
   "metadata": {},
   "outputs": [],
   "source": [
    "# main results gen loop\n",
    "for r in range(repeats):\n",
    "    game(num_iters, record_interval, r, image_option)"
   ]
  },
  {
   "cell_type": "markdown",
   "id": "8c38f70f",
   "metadata": {},
   "source": [
    "### Reading results\n",
    "CSV files ignored in .gitignore, should be reproducable with seed."
   ]
  },
  {
   "cell_type": "code",
   "execution_count": 21,
   "id": "8b5503ff",
   "metadata": {},
   "outputs": [
    {
     "data": {
      "text/plain": [
       "{'success_count': 100, 'payoff_average': 99.99999999969155}"
      ]
     },
     "execution_count": 21,
     "metadata": {},
     "output_type": "execute_result"
    }
   ],
   "source": [
    "get_stats_by_folder(\"./simulations/3_3_3/\", success_threshold)"
   ]
  },
  {
   "cell_type": "markdown",
   "id": "e41d9b09",
   "metadata": {},
   "source": [
    "TODO: Verify with observation probabilities of 0 as well.\n",
    "\n",
    "TODO: Run at volume on CIRC.\n",
    "\n",
    "What is the payoff interval of the final rewards?\n",
    "\n",
    "How much pooling is going on? Are there signals that are not used?"
   ]
  }
 ],
 "metadata": {
  "kernelspec": {
   "display_name": "sig",
   "language": "python",
   "name": "python3"
  },
  "language_info": {
   "codemirror_mode": {
    "name": "ipython",
    "version": 3
   },
   "file_extension": ".py",
   "mimetype": "text/x-python",
   "name": "python",
   "nbconvert_exporter": "python",
   "pygments_lexer": "ipython3",
   "version": "3.11.11"
  }
 },
 "nbformat": 4,
 "nbformat_minor": 5
}
