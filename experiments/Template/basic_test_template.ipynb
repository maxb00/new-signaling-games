{
 "cells": [
  {
   "cell_type": "markdown",
   "id": "a7442252",
   "metadata": {},
   "source": [
    "# General tests\n",
    "1000 runs each setup, checking success/failure rate by payoff\n",
    "(Success == payoff > 99.99%)"
   ]
  },
  {
   "cell_type": "markdown",
   "id": "79befb98",
   "metadata": {},
   "source": [
    "# TODO: Verify the games are UNIQUE"
   ]
  },
  {
   "cell_type": "markdown",
   "id": "ce978969",
   "metadata": {},
   "source": [
    "### Notebook globals\n",
    "Change these once per location."
   ]
  },
  {
   "cell_type": "code",
   "execution_count": null,
   "id": "1009a5be",
   "metadata": {},
   "outputs": [],
   "source": [
    "import sys\n",
    "from multiprocess import Pool # type: ignore\n",
    "\n",
    "sys.path.append(r'..\\\\..\\\\') # this should point to the package root containing /src\n",
    "from src.signaling_game import SignalingGame\n",
    "from src.util import get_stats_by_folder, delta_reward_fn, transform"
   ]
  },
  {
   "cell_type": "code",
   "execution_count": null,
   "id": "491320a9",
   "metadata": {},
   "outputs": [],
   "source": [
    "# Set the observation chance\n",
    "observation_chance = 0.0\n",
    "\n",
    "# choose the size and length of batches and runs\n",
    "iterations_per_game = 1_000_000\n",
    "batch_size = 10\n",
    "\n",
    "# set the state prior distrobution\n",
    "state_prior_distrobution = \"uniform\" # or \"normal\"\n",
    "\n",
    "# choose a reward function\n",
    "reward_function = delta_reward_fn\n",
    "reward_param = (1, 1) # used for calculating optimal payoff and info measure. c and d in linear reward function\n",
    "\n",
    "# choose a weight transformation function, if any\n",
    "weight_transformation_function = None # None or transform.\n",
    "\n",
    "# choose image options: How often should the game be sampled for the results visual, and what form should the visual be?\n",
    "image_format_choice = \"\" # can be \"gif\" or \"image\". Any other input will produce only a CSV.\n",
    "record_interval = 1_000 # number of steps between game samples\n",
    "\n",
    "# choose a success threshold. If a game's final payoff is larger, it is considered a success.\n",
    "success_threshold = 0.8 \n",
    "\n",
    "# choose if the sender and receiver use stimulus generalization\n",
    "sender_stimgen = False\n",
    "receiver_stimgen = False\n",
    "\n",
    "# finally, choose a random seed for reproducability.\n",
    "seed = 0\n",
    "\n",
    "# zip arguments for multiprocessing\n",
    "argmap = ((iterations_per_game, record_interval, i, image_format_choice) for i in range(batch_size))"
   ]
  },
  {
   "cell_type": "markdown",
   "id": "0b233d45",
   "metadata": {},
   "source": [
    "## 2 states, 2 signals, 2 actions"
   ]
  },
  {
   "cell_type": "code",
   "execution_count": 3,
   "id": "6f8d1bc7",
   "metadata": {},
   "outputs": [],
   "source": [
    "# Game setup constants\n",
    "n_states = 2\n",
    "n_signals = 2\n",
    "n_actions = 2"
   ]
  },
  {
   "cell_type": "code",
   "execution_count": null,
   "id": "1103d0a3",
   "metadata": {},
   "outputs": [],
   "source": [
    "game = SignalingGame(\n",
    "    n_states,\n",
    "    n_signals,\n",
    "    n_actions,\n",
    "    sender_stimgen,\n",
    "    receiver_stimgen,\n",
    "    state_prior_distrobution,\n",
    "    observation_chance,\n",
    "    reward_param,\n",
    "    reward_function,\n",
    "    weight_transformation_function\n",
    ")\n",
    "game.set_random_seed(seed)"
   ]
  },
  {
   "cell_type": "code",
   "execution_count": null,
   "id": "cf431eba",
   "metadata": {},
   "outputs": [],
   "source": [
    "# run games as a parallelized Process pool.\n",
    "with Pool() as p:\n",
    "    p.starmap(game, argmap)"
   ]
  },
  {
   "cell_type": "markdown",
   "id": "3154e439",
   "metadata": {},
   "source": [
    "### Reading results\n",
    "CSV files ignored in .gitignore, should be reproducable with seed."
   ]
  },
  {
   "cell_type": "code",
   "execution_count": 6,
   "id": "3ef06c2f",
   "metadata": {},
   "outputs": [
    {
     "data": {
      "text/plain": [
       "{'success_count': 10,\n",
       " 'payoff_average': 9.999999999845022,\n",
       " 'payoff_range': (0.9999999998999978, 0.9999999999989999),\n",
       " 'pooling_count': 0}"
      ]
     },
     "execution_count": 6,
     "metadata": {},
     "output_type": "execute_result"
    }
   ],
   "source": [
    "get_stats_by_folder(\"./simulations/2_2_2/\", success_threshold, n_signals)"
   ]
  },
  {
   "cell_type": "markdown",
   "id": "49684aff",
   "metadata": {},
   "source": [
    "## 3 states, 3 signals, 3 actions"
   ]
  },
  {
   "cell_type": "code",
   "execution_count": 3,
   "id": "f97f1e4e",
   "metadata": {},
   "outputs": [],
   "source": [
    "# Game setup constants\n",
    "n_states = 3\n",
    "n_signals = 3\n",
    "n_actions = 3"
   ]
  },
  {
   "cell_type": "code",
   "execution_count": null,
   "id": "52f14e4f",
   "metadata": {},
   "outputs": [],
   "source": [
    "game = SignalingGame(\n",
    "    n_states,\n",
    "    n_signals,\n",
    "    n_actions,\n",
    "    sender_stimgen,\n",
    "    receiver_stimgen,\n",
    "    state_prior_distrobution,\n",
    "    observation_chance,\n",
    "    reward_param,\n",
    "    reward_function,\n",
    "    weight_transformation_function\n",
    ")\n",
    "game.set_random_seed(seed)"
   ]
  },
  {
   "cell_type": "code",
   "execution_count": null,
   "id": "39be08b0",
   "metadata": {},
   "outputs": [],
   "source": [
    "with Pool() as p:\n",
    "    p.starmap(game, argmap)"
   ]
  },
  {
   "cell_type": "markdown",
   "id": "8c38f70f",
   "metadata": {},
   "source": [
    "### Reading results\n",
    "CSV files ignored in .gitignore, should be reproducable with seed."
   ]
  },
  {
   "cell_type": "code",
   "execution_count": 6,
   "id": "8b5503ff",
   "metadata": {},
   "outputs": [
    {
     "data": {
      "text/plain": [
       "{'success_count': 10,\n",
       " 'payoff_average': 9.99999999394049,\n",
       " 'payoff_range': (0.999999999394049, 0.999999999394049),\n",
       " 'pooling_count': 0}"
      ]
     },
     "execution_count": 6,
     "metadata": {},
     "output_type": "execute_result"
    }
   ],
   "source": [
    "get_stats_by_folder(\"./simulations/3_3_3/\", success_threshold, n_signals)"
   ]
  },
  {
   "cell_type": "markdown",
   "id": "e41d9b09",
   "metadata": {},
   "source": [
    "TODO: Verify with observation probabilities of 0 as well.\n",
    "\n",
    "TODO: Run at volume on CIRC."
   ]
  }
 ],
 "metadata": {
  "kernelspec": {
   "display_name": "sig",
   "language": "python",
   "name": "python3"
  },
  "language_info": {
   "codemirror_mode": {
    "name": "ipython",
    "version": 3
   },
   "file_extension": ".py",
   "mimetype": "text/x-python",
   "name": "python",
   "nbconvert_exporter": "python",
   "pygments_lexer": "ipython3",
   "version": "3.11.9"
  }
 },
 "nbformat": 4,
 "nbformat_minor": 5
}
