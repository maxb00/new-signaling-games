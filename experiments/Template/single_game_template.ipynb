{
 "cells": [
  {
   "cell_type": "markdown",
   "id": "8a3d2e5a",
   "metadata": {},
   "source": [
    "# Simple game template\n",
    "A template for running a single, simple signaling game."
   ]
  },
  {
   "cell_type": "markdown",
   "id": "519753a7",
   "metadata": {},
   "source": [
    "### Imports\n",
    "First up, our imports. We treat the underlying code that runs signaling games as a package, which we can import once the parent directory of the \"src\" folder is on our path. \n",
    "\n",
    "Make sure to edit the path from inside a conda or pip venv- I don't recommend accessing your global path variable like this."
   ]
  },
  {
   "cell_type": "code",
   "execution_count": 1,
   "id": "33fd52fe",
   "metadata": {},
   "outputs": [],
   "source": [
    "import sys\n",
    "# requires different syntax on Windows/Linux\n",
    "sys.path.append(\"../../\") # this should point to the package root containing /src\n",
    "from src.util import delta_reward_fn, linear_reward_fn, transform\n",
    "from src.util.runner import run_game\n",
    "from src.signaling_game import SignalingGame"
   ]
  },
  {
   "cell_type": "markdown",
   "id": "51b8ce86",
   "metadata": {},
   "source": [
    "### Parameters\n",
    "Next, we set all of our game parameters. "
   ]
  },
  {
   "cell_type": "code",
   "execution_count": 2,
   "id": "9b9b6b12",
   "metadata": {},
   "outputs": [],
   "source": [
    "# Game constants\n",
    "n_states = 2\n",
    "n_signals = 2\n",
    "n_actions = 2\n",
    "\n",
    "# The chance (0-1) that the reciever observes the world state during any step\n",
    "observation_chance = 0.3\n",
    "\n",
    "# Stimulus generalization: nearby states get some reduced reward\n",
    "sender_stimgen = False\n",
    "receiver_stimgen = False\n",
    "\n",
    "# the number of steps to simulate\n",
    "iterations_per_game = 1_000_000\n",
    "\n",
    "# used for counting and labeling batch runs\n",
    "batch_size = 1\n",
    "\n",
    "# the prior probability distrobution for states being chosen by the world\n",
    "state_prior_distrobution = \"uniform\" # or \"normal\"\n",
    "\n",
    "# reward func for scoring a single step\n",
    "reward_fn = delta_reward_fn # also implemented: linear_reward_fn\n",
    "\n",
    "# For linear reward: reward = c - dx where x = distance between guess and actual\n",
    "reward_parameter = (1, 1) # otherwise, remains a part of labeling as an artifact\n",
    "\n",
    "# In cases with stimgen, we transform our weights to avoid under/overflow\n",
    "weight_transformation_fn = None # If needed, use \"transform\"\n",
    "\n",
    "# Output format - gif is broken in parallel. All produce csv.\n",
    "output_format = \"image\" # can be ['gif', 'image', '']\n",
    "\n",
    "# number of steps between history points on output graphs.\n",
    "record_interval = 1_000 # small ratio with iterations_per_game will balloon memory!\n",
    "\n",
    "# Random seed for reproducability. Have done many experiments seeds 0-1000 so far.\n",
    "seed = 7562171874676 # \"None\" provides a fully random seed"
   ]
  },
  {
   "cell_type": "markdown",
   "id": "c6f15dff",
   "metadata": {},
   "source": [
    "### Running a game\n",
    "Now, lets run a game. There are two interfaces for running games: 1) Building a new game object through the SignalingGame constructor and calling `__run__`, or 2) zipping all parameters into a tuple and using the `run_game` wrapper.\n",
    "\n",
    "In parallel, stick to option 2. Check out `basic_test_template.ipynb` for how we implement it there!"
   ]
  },
  {
   "cell_type": "code",
   "execution_count": 3,
   "id": "15ab6578",
   "metadata": {},
   "outputs": [],
   "source": [
    "# Create the game via constructor.\n",
    "game = SignalingGame(\n",
    "    n_states=n_states,\n",
    "    n_signals=n_signals,\n",
    "    n_actions=n_actions,\n",
    "    sn_stimgem=sender_stimgen,\n",
    "    rc_stimgen=receiver_stimgen,\n",
    "    state_prior_dist=state_prior_distrobution,\n",
    "    observation_chance=observation_chance,\n",
    "    reward_param=reward_parameter,\n",
    "    reward_function=reward_fn,\n",
    "    weight_transform_func=weight_transformation_fn\n",
    ")\n",
    "game.set_random_seed(seed)"
   ]
  },
  {
   "cell_type": "code",
   "execution_count": 4,
   "id": "76ad4365",
   "metadata": {},
   "outputs": [
    {
     "data": {
      "text/plain": [
       "'./simulations/2_2_2/(1, 1)_1000000_1_7562171874676.jpg'"
      ]
     },
     "execution_count": 4,
     "metadata": {},
     "output_type": "execute_result"
    }
   ],
   "source": [
    "# run the game via __run__()\n",
    "game(\n",
    "    num_iters=iterations_per_game,\n",
    "    record_interval=record_interval,\n",
    "    repeat_num=batch_size, # determines output filename.\n",
    "    image_option=output_format\n",
    ")"
   ]
  }
 ],
 "metadata": {
  "kernelspec": {
   "display_name": "sig",
   "language": "python",
   "name": "python3"
  },
  "language_info": {
   "codemirror_mode": {
    "name": "ipython",
    "version": 3
   },
   "file_extension": ".py",
   "mimetype": "text/x-python",
   "name": "python",
   "nbconvert_exporter": "python",
   "pygments_lexer": "ipython3",
   "version": "3.11.9"
  }
 },
 "nbformat": 4,
 "nbformat_minor": 5
}
